{
 "cells": [
  {
   "cell_type": "markdown",
   "id": "505c8f89",
   "metadata": {},
   "source": [
    "# Canonical Objects"
   ]
  },
  {
   "cell_type": "code",
   "execution_count": 3,
   "id": "e7258334",
   "metadata": {},
   "outputs": [],
   "source": [
    "import networkx as nx\n",
    "from itertools import combinations, permutations\n",
    "from copy import deepcopy\n",
    "import pickle\n",
    "from tqdm.notebook import tqdm\n",
    "from scipy.special import comb\n",
    "import matplotlib.pyplot as plt\n",
    "from pref_voting.generate_weighted_majority_graphs import *"
   ]
  },
  {
   "cell_type": "code",
   "execution_count": 4,
   "id": "32115574",
   "metadata": {},
   "outputs": [],
   "source": [
    "def display_wwt(wwt, edge_attr='weight'):\n",
    "    \"\"\"Display a weighted (weak) tournament with edge weights\"\"\"\n",
    "    pos = nx.circular_layout(wwt)\n",
    "    nx.draw(wwt, pos, font_size=20, node_color='blue', font_color='white',\n",
    "            node_size=700, width=1, with_labels=True)\n",
    "    \n",
    "    edge_labels = nx.get_edge_attributes(wwt, edge_attr)\n",
    "    nx.draw_networkx_edge_labels(wwt, pos, edge_labels=edge_labels, label_pos=0.3)\n",
    "    plt.show()\n",
    "\n",
    "def findsubsets(s, n):\n",
    "    \"\"\"all subsets of the list s of size n\"\"\" \n",
    "    return [set(i) for i in combinations(s, n)] \n",
    "\n",
    "def is_maj_preferred(wt, c1, c2): \n",
    "    \"\"\"True if c1 is majority preferred to c2\"\"\"\n",
    "    return wt.has_edge(c1, c2)\n",
    "\n",
    "def is_tournament(wt):\n",
    "    \"\"\"test if a weak tournament is a tournament\"\"\"\n",
    "    candidates = wt.nodes\n",
    "    is_t = True\n",
    "    for c1 in candidates: \n",
    "        for c2 in candidates: \n",
    "            if c1 != c2 and not is_maj_preferred(wt,c1,c2) and not is_maj_preferred(wt,c2,c1):\n",
    "                is_t = False\n",
    "    return is_t"
   ]
  },
  {
   "cell_type": "markdown",
   "id": "336f04b6",
   "metadata": {},
   "source": [
    "## Canonical Weak Tournaments"
   ]
  },
  {
   "cell_type": "markdown",
   "id": "6e69dd31",
   "metadata": {},
   "source": [
    "The following code generates a representative from each isomorhpism class of weak tournaments. \n",
    "\n",
    "We call these representatives the **canonical weak tournaments**."
   ]
  },
  {
   "cell_type": "code",
   "execution_count": 5,
   "id": "129a49e6",
   "metadata": {},
   "outputs": [
    {
     "data": {
      "application/vnd.jupyter.widget-view+json": {
       "model_id": "fb962b26fe1f41e4bf742672f5516a24",
       "version_major": 2,
       "version_minor": 0
      },
      "text/plain": [
       "  0%|          | 0/2 [00:00<?, ?it/s]"
      ]
     },
     "metadata": {},
     "output_type": "display_data"
    },
    {
     "data": {
      "application/vnd.jupyter.widget-view+json": {
       "model_id": "4830efa1d651439c8f3e993425b9b7e5",
       "version_major": 2,
       "version_minor": 0
      },
      "text/plain": [
       "  0%|          | 0/4 [00:00<?, ?it/s]"
      ]
     },
     "metadata": {},
     "output_type": "display_data"
    },
    {
     "data": {
      "application/vnd.jupyter.widget-view+json": {
       "model_id": "f73f46aecc824cda8ce112d8ce4916df",
       "version_major": 2,
       "version_minor": 0
      },
      "text/plain": [
       "  0%|          | 0/11 [00:00<?, ?it/s]"
      ]
     },
     "metadata": {},
     "output_type": "display_data"
    },
    {
     "data": {
      "application/vnd.jupyter.widget-view+json": {
       "model_id": "c97b9475fe084382b5c07d0159e2a39e",
       "version_major": 2,
       "version_minor": 0
      },
      "text/plain": [
       "  0%|          | 0/34 [00:00<?, ?it/s]"
      ]
     },
     "metadata": {},
     "output_type": "display_data"
    },
    {
     "data": {
      "application/vnd.jupyter.widget-view+json": {
       "model_id": "48738c10702f4c61afa0dd04a148043b",
       "version_major": 2,
       "version_minor": 0
      },
      "text/plain": [
       "  0%|          | 0/156 [00:00<?, ?it/s]"
      ]
     },
     "metadata": {},
     "output_type": "display_data"
    }
   ],
   "source": [
    "%%time \n",
    "\n",
    "# Warning: Constructing the canonical weak tournaments with 7 candidates takes a long time!\n",
    "\n",
    "numbers_of_candidates = [2, 3, 4, 5, 6]#, 7]\n",
    "\n",
    "#  nx.graph_atlas_g() is a list of all the undirected graphs with up to 7 nodes\n",
    "# See https://networkx.org/documentation/networkx-1.10/reference/generated/networkx.generators.atlas.graph_atlas_g.html\n",
    "\n",
    "undirected_graphs_size_2 = nx.graph_atlas_g()[2:4] # undirected graphs with 3 nodes\n",
    "undirected_graphs_size_3 = nx.graph_atlas_g()[4:8] # undirected graphs with 3 nodes\n",
    "undirected_graphs_size_4 = nx.graph_atlas_g()[8:19] # undirected graphs with 4 nodes\n",
    "undirected_graphs_size_5 = nx.graph_atlas_g()[19:53] # undirected graphs with 5 nodes\n",
    "undirected_graphs_size_6 = nx.graph_atlas_g()[53:209] # undirected graphs with 6 nodes\n",
    "#undirected_graphs_size_7 = nx.graph_atlas_g()[209::] # undirected graphs with 7 nodes\n",
    "\n",
    "undirected_graphs = {\n",
    "    2: undirected_graphs_size_2, \n",
    "    3: undirected_graphs_size_3, \n",
    "    4: undirected_graphs_size_4,\n",
    "    5: undirected_graphs_size_5, \n",
    "    6: undirected_graphs_size_6,\n",
    "    #7: undirected_graphs_size_7\n",
    "}\n",
    "\n",
    "canonical_weak_tournaments = {nc: list() for nc in numbers_of_candidates}\n",
    "\n",
    "for nc in numbers_of_candidates: \n",
    "    \n",
    "    for g in tqdm(undirected_graphs[nc]):\n",
    "\n",
    "        directed_graphs_from_g_by_score_seq = dict()\n",
    "        \n",
    "        num_edges = len(g.edges)\n",
    "\n",
    "        # for n=0 to the number of edges\n",
    "        for n in range(num_edges + 1): \n",
    "\n",
    "            # find all the subsets of edges of size n\n",
    "            forward_edges = findsubsets(g.edges, n)\n",
    "\n",
    "            # for each set of edges\n",
    "            for f_edges in forward_edges: \n",
    "\n",
    "                # f_edges is the set of forward edges, the other edges in g point in the opposite direction\n",
    "                d_edges = list(f_edges) + [(e[1], e[0]) for e in g.edges if e not in f_edges]\n",
    "\n",
    "                # create a directed graph with the nodes from g and directed edges in d_edges\n",
    "                d_graph = nx.DiGraph()\n",
    "                d_graph.add_nodes_from(g.nodes)\n",
    "                d_graph.add_edges_from(d_edges)\n",
    "\n",
    "                # check if we have already seen a graph isomorphic to d_graph, \n",
    "                # using the fact that a graph isomorphic to d_graph must have the same score sequence as d_graph\n",
    "\n",
    "                d_score_seq = tuple(sorted([d_graph.out_degree(x) - d_graph.in_degree(x) for x in d_graph.nodes]))\n",
    "\n",
    "                if not d_score_seq in directed_graphs_from_g_by_score_seq.keys():\n",
    "                    directed_graphs_from_g_by_score_seq[d_score_seq] = [d_graph]\n",
    "                    canonical_weak_tournaments[nc].append(d_graph)\n",
    "\n",
    "                else:\n",
    "                    score_type = directed_graphs_from_g_by_score_seq[d_score_seq]\n",
    "                    if all([not nx.is_isomorphic(d_graph,_t) for _t in score_type]): \n",
    "                        directed_graphs_from_g_by_score_seq[d_score_seq].append(d_graph)\n",
    "                        canonical_weak_tournaments[nc].append(d_graph)\n",
    "                    \n",
    "    # save the weak tournaments\n",
    "    pickle.dump(canonical_weak_tournaments[nc], open(f\"weak_tourns/weak_tourns_{nc}.pkl\", \"wb\"))\n",
    "\n",
    "print(\"Done creating canonical weak tournaments.\\n\")\n",
    "\n",
    "for nc in numbers_of_candidates: \n",
    "    print(f\"There are {len(canonical_weak_tournaments[nc])} canonical weak tournaments for {nc} candidates\")"
   ]
  },
  {
   "cell_type": "code",
   "execution_count": null,
   "id": "c7e33b6c",
   "metadata": {},
   "outputs": [
    {
     "name": "stdout",
     "output_type": "stream",
     "text": [
      "Done creating canonical tournaments.\n",
      "\n",
      "There are 1 canonical tournaments for 2 candidates\n",
      "There are 2 canonical tournaments for 3 candidates\n",
      "There are 4 canonical tournaments for 4 candidates\n",
      "There are 12 canonical tournaments for 5 candidates\n",
      "There are 56 canonical tournaments for 6 candidates\n"
     ]
    }
   ],
   "source": [
    "numbers_of_candidates = [2, 3, 4, 5, 6]#, 7]\n",
    "\n",
    "# Set aside the tournaments\n",
    "canonical_tournaments = {n_cands: list() for n_cands in canonical_weak_tournaments.keys()}\n",
    "for n_cands in canonical_weak_tournaments.keys():\n",
    "    for t in canonical_weak_tournaments[n_cands]:\n",
    "        if is_tournament(t):\n",
    "            canonical_tournaments[n_cands].append(t)\n",
    "\n",
    "# save the tournaments\n",
    "for nc in canonical_tournaments.keys():\n",
    "    pickle.dump(canonical_tournaments[nc], open(f\"tourns/tourns_{nc}.pkl\", \"wb\"))\n",
    "\n",
    "print(\"Done creating canonical tournaments.\\n\")\n",
    "\n",
    "for nc in numbers_of_candidates: \n",
    "    print(f\"There are {len(canonical_tournaments[nc])} canonical tournaments for {nc} candidates\")"
   ]
  },
  {
   "cell_type": "markdown",
   "id": "ea2cb32f",
   "metadata": {},
   "source": [
    "## Canonical Weighted Tournaments"
   ]
  },
  {
   "cell_type": "markdown",
   "id": "075facf7",
   "metadata": {},
   "source": [
    "The following code generates a representative from each isomorhpism class of uniquely weighted tournaments with weights from $\\{2, 4, 6, 8, 10, 12\\}$. \n",
    "\n",
    "We call these representatives the **canonical weighted tournaments**."
   ]
  },
  {
   "cell_type": "code",
   "execution_count": null,
   "id": "3e7b4855",
   "metadata": {},
   "outputs": [
    {
     "data": {
      "application/vnd.jupyter.widget-view+json": {
       "model_id": "63b914874b0a4522a1a71ae1f39ff27b",
       "version_major": 2,
       "version_minor": 0
      },
      "text/plain": [
       "  0%|          | 0/3 [00:00<?, ?it/s]"
      ]
     },
     "metadata": {},
     "output_type": "display_data"
    },
    {
     "name": "stdout",
     "output_type": "stream",
     "text": [
      "There are 6 canonical weighted tournaments for 2 candidates\n",
      "There are 160 canonical weighted tournaments for 3 candidates\n",
      "There are 1920 canonical weighted tournaments for 4 candidates\n",
      "CPU times: user 169 ms, sys: 15.6 ms, total: 185 ms\n",
      "Wall time: 186 ms\n"
     ]
    }
   ],
   "source": [
    "%%time \n",
    "\n",
    "all_num_candidates = [2, 3, 4]\n",
    "\n",
    "weight_domain = [2, 4, 6, 8, 10, 12]\n",
    "\n",
    "canonical_weighted_tournaments = {nc: None for nc in all_num_candidates}\n",
    "\n",
    "for num_cands in tqdm(all_num_candidates): \n",
    "    canonical_weighted_tournaments[num_cands] = [mg.to_networkx() for mg in enumerate_uniquely_weighted_margin_graphs(num_cands, weight_domain)]\n",
    "\n",
    "# save the weighted tournaments\n",
    "for nc in canonical_weighted_tournaments.keys():\n",
    "    pickle.dump(canonical_weighted_tournaments[nc], open(f\"weighted_tourns/weighted_tourns_{nc}.pkl\", \"wb\"))\n",
    "\n",
    "for nc in all_num_candidates: \n",
    "    print(f\"There are {len(canonical_weighted_tournaments[nc])} canonical weighted tournaments for {nc} candidates\")"
   ]
  }
 ],
 "metadata": {
  "@webio": {
   "lastCommId": null,
   "lastKernelId": null
  },
  "kernelspec": {
   "display_name": "Python 3",
   "language": "python",
   "name": "python3"
  },
  "language_info": {
   "codemirror_mode": {
    "name": "ipython",
    "version": 3
   },
   "file_extension": ".py",
   "mimetype": "text/x-python",
   "name": "python",
   "nbconvert_exporter": "python",
   "pygments_lexer": "ipython3",
   "version": "3.10.8"
  },
  "varInspector": {
   "cols": {
    "lenName": 16,
    "lenType": 16,
    "lenVar": 40
   },
   "kernels_config": {
    "python": {
     "delete_cmd_postfix": "",
     "delete_cmd_prefix": "del ",
     "library": "var_list.py",
     "varRefreshCmd": "print(var_dic_list())"
    },
    "r": {
     "delete_cmd_postfix": ") ",
     "delete_cmd_prefix": "rm(",
     "library": "var_list.r",
     "varRefreshCmd": "cat(var_dic_list()) "
    }
   },
   "types_to_exclude": [
    "module",
    "function",
    "builtin_function_or_method",
    "instance",
    "_Feature"
   ],
   "window_display": false
  },
  "vscode": {
   "interpreter": {
    "hash": "b0fa6594d8f4cbf19f97940f81e996739fb7646882a419484c72d19e05852a7e"
   }
  }
 },
 "nbformat": 4,
 "nbformat_minor": 5
}
