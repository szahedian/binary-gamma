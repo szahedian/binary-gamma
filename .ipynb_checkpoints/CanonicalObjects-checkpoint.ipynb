{
 "cells": [
  {
   "cell_type": "markdown",
   "id": "505c8f89",
   "metadata": {},
   "source": [
    "# Canonical Objects"
   ]
  },
  {
   "cell_type": "code",
   "execution_count": 1,
   "id": "e7258334",
   "metadata": {},
   "outputs": [],
   "source": [
    "import networkx as nx\n",
    "from itertools import combinations, permutations\n",
    "from copy import deepcopy\n",
    "import pickle\n",
    "from tqdm.notebook import tqdm\n",
    "from scipy.special import comb\n",
    "import matplotlib.pyplot as plt\n"
   ]
  },
  {
   "cell_type": "code",
   "execution_count": 2,
   "id": "32115574",
   "metadata": {},
   "outputs": [],
   "source": [
    "def display_wwt(wwt, edge_attr='weight'):\n",
    "    \"\"\"Display a weighted (weak) tournament with edge weights\"\"\"\n",
    "    pos = nx.circular_layout(wwt)\n",
    "    nx.draw(wwt, pos, font_size=20, node_color='blue', font_color='white',\n",
    "            node_size=700, width=1, with_labels=True)\n",
    "    \n",
    "    edge_labels = nx.get_edge_attributes(wwt, edge_attr)\n",
    "    nx.draw_networkx_edge_labels(wwt, pos, edge_labels=edge_labels, label_pos=0.3)\n",
    "    plt.show()\n",
    "\n",
    "def findsubsets(s, n):\n",
    "    \"\"\"all subsets of the list s of size n\"\"\" \n",
    "    return [set(i) for i in combinations(s, n)] \n",
    "\n",
    "def is_maj_preferred(wt, c1, c2): \n",
    "    \"\"\"True if c1 is majority preferred to c2\"\"\"\n",
    "    return wt.has_edge(c1, c2)\n",
    "\n",
    "def is_tournament(wt):\n",
    "    \"\"\"test if a weak tournament is a tournament\"\"\"\n",
    "    candidates = wt.nodes\n",
    "    is_t = True\n",
    "    for c1 in candidates: \n",
    "        for c2 in candidates: \n",
    "            if c1 != c2 and not is_maj_preferred(wt,c1,c2) and not is_maj_preferred(wt,c2,c1):\n",
    "                is_t = False\n",
    "    return is_t\n"
   ]
  },
  {
   "cell_type": "markdown",
   "id": "336f04b6",
   "metadata": {},
   "source": [
    "## Canonical Weak Tournaments"
   ]
  },
  {
   "cell_type": "markdown",
   "id": "6e69dd31",
   "metadata": {},
   "source": [
    "The following code generates a representative from each isomorhpism class of weak tournaments. \n",
    "\n",
    "We call these representatives the **canonical weak tournaments**."
   ]
  },
  {
   "cell_type": "code",
   "execution_count": 3,
   "id": "129a49e6",
   "metadata": {},
   "outputs": [
    {
     "data": {
      "application/json": {
       "ascii": false,
       "bar_format": null,
       "colour": null,
       "elapsed": 0.0192110538482666,
       "initial": 0,
       "n": 0,
       "ncols": null,
       "nrows": 25,
       "postfix": null,
       "prefix": "",
       "rate": null,
       "total": 2,
       "unit": "it",
       "unit_divisor": 1000,
       "unit_scale": false
      },
      "application/vnd.jupyter.widget-view+json": {
       "model_id": "35fbd34ddc824a3fa0e553266c5300b0",
       "version_major": 2,
       "version_minor": 0
      },
      "text/plain": [
       "  0%|          | 0/2 [00:00<?, ?it/s]"
      ]
     },
     "metadata": {},
     "output_type": "display_data"
    },
    {
     "data": {
      "application/json": {
       "ascii": false,
       "bar_format": null,
       "colour": null,
       "elapsed": 0.016106128692626953,
       "initial": 0,
       "n": 0,
       "ncols": null,
       "nrows": 25,
       "postfix": null,
       "prefix": "",
       "rate": null,
       "total": 4,
       "unit": "it",
       "unit_divisor": 1000,
       "unit_scale": false
      },
      "application/vnd.jupyter.widget-view+json": {
       "model_id": "1d057d077c8a44edac4357c9f52cee38",
       "version_major": 2,
       "version_minor": 0
      },
      "text/plain": [
       "  0%|          | 0/4 [00:00<?, ?it/s]"
      ]
     },
     "metadata": {},
     "output_type": "display_data"
    },
    {
     "data": {
      "application/json": {
       "ascii": false,
       "bar_format": null,
       "colour": null,
       "elapsed": 0.020621061325073242,
       "initial": 0,
       "n": 0,
       "ncols": null,
       "nrows": 25,
       "postfix": null,
       "prefix": "",
       "rate": null,
       "total": 11,
       "unit": "it",
       "unit_divisor": 1000,
       "unit_scale": false
      },
      "application/vnd.jupyter.widget-view+json": {
       "model_id": "0120945ffcec44a5a4cbc85cc818efd7",
       "version_major": 2,
       "version_minor": 0
      },
      "text/plain": [
       "  0%|          | 0/11 [00:00<?, ?it/s]"
      ]
     },
     "metadata": {},
     "output_type": "display_data"
    },
    {
     "data": {
      "application/json": {
       "ascii": false,
       "bar_format": null,
       "colour": null,
       "elapsed": 0.016269922256469727,
       "initial": 0,
       "n": 0,
       "ncols": null,
       "nrows": 25,
       "postfix": null,
       "prefix": "",
       "rate": null,
       "total": 34,
       "unit": "it",
       "unit_divisor": 1000,
       "unit_scale": false
      },
      "application/vnd.jupyter.widget-view+json": {
       "model_id": "77348197ac354b978a44eee98ee31b32",
       "version_major": 2,
       "version_minor": 0
      },
      "text/plain": [
       "  0%|          | 0/34 [00:00<?, ?it/s]"
      ]
     },
     "metadata": {},
     "output_type": "display_data"
    },
    {
     "data": {
      "application/json": {
       "ascii": false,
       "bar_format": null,
       "colour": null,
       "elapsed": 0.015137910842895508,
       "initial": 0,
       "n": 0,
       "ncols": null,
       "nrows": 25,
       "postfix": null,
       "prefix": "",
       "rate": null,
       "total": 156,
       "unit": "it",
       "unit_divisor": 1000,
       "unit_scale": false
      },
      "application/vnd.jupyter.widget-view+json": {
       "model_id": "4130837b93e843d38e09a6b282b0e545",
       "version_major": 2,
       "version_minor": 0
      },
      "text/plain": [
       "  0%|          | 0/156 [00:00<?, ?it/s]"
      ]
     },
     "metadata": {},
     "output_type": "display_data"
    },
    {
     "name": "stdout",
     "output_type": "stream",
     "text": [
      "Done creating canonical weak tournaments.\n",
      "\n",
      "There are 2 canonical weak tournaments for 2 candidates\n",
      "There are 7 canonical weak tournaments for 3 candidates\n",
      "There are 42 canonical weak tournaments for 4 candidates\n",
      "There are 582 canonical weak tournaments for 5 candidates\n",
      "There are 21480 canonical weak tournaments for 6 candidates\n"
     ]
    }
   ],
   "source": [
    "# Warning: Constructing the canonical graphs for size 6 and 7 takes a very long time!\n",
    "\n",
    "numbers_of_candidates = [2, 3, 4, 5, 6]#, 7]\n",
    "\n",
    "#  nx.graph_atlas_g() is a list of all the undirected graphs with up to 7 nodes\n",
    "# See https://networkx.org/documentation/networkx-1.10/reference/generated/networkx.generators.atlas.graph_atlas_g.html\n",
    "\n",
    "undirected_graphs_size_2 = nx.graph_atlas_g()[2:4] # undirected graphs with 3 nodes\n",
    "undirected_graphs_size_3 = nx.graph_atlas_g()[4:8] # undirected graphs with 3 nodes\n",
    "undirected_graphs_size_4 = nx.graph_atlas_g()[8:19] # undirected graphs with 4 nodes\n",
    "undirected_graphs_size_5 = nx.graph_atlas_g()[19:53] # undirected graphs with 5 nodes\n",
    "undirected_graphs_size_6 = nx.graph_atlas_g()[53:209] # undirected graphs with 6 nodes\n",
    "#undirected_graphs_size_7 = nx.graph_atlas_g()[209::] # undirected graphs with 7 nodes\n",
    "\n",
    "undirected_graphs = {\n",
    "    2: undirected_graphs_size_2, \n",
    "    3: undirected_graphs_size_3, \n",
    "    4: undirected_graphs_size_4,\n",
    "    5: undirected_graphs_size_5, \n",
    "    6: undirected_graphs_size_6,\n",
    "    #7: undirected_graphs_size_7\n",
    "}\n",
    "\n",
    "canonical_weak_tournaments = {nc: list() for nc in numbers_of_candidates}\n",
    "\n",
    "for nc in numbers_of_candidates: \n",
    "    \n",
    "    for g in tqdm(undirected_graphs[nc]):\n",
    "        \n",
    "        directed_graphs_from_g = list()\n",
    "        \n",
    "        num_edges = len(g.edges)\n",
    "\n",
    "        # for n=0 to the number of edges\n",
    "        for n in range(num_edges + 1): \n",
    "\n",
    "            # find all the subsets of edges of size n\n",
    "            forward_edges = findsubsets(g.edges, n)\n",
    "\n",
    "            # for each set of edges\n",
    "            for f_edges in forward_edges: \n",
    "\n",
    "                # f_edges is the set of forward edges, the other edges in g point in the opposite direction\n",
    "                d_edges = list(f_edges) + [(e[1], e[0]) for e in g.edges if e not in f_edges]\n",
    "\n",
    "                # create a directed graph with the nodes from g and directed edges in d_edges\n",
    "                d_graph = nx.DiGraph()\n",
    "                d_graph.add_nodes_from(g.nodes)\n",
    "                d_graph.add_edges_from(d_edges)\n",
    "\n",
    "                # check if we have already seen a graph isomorphic to d_graph\n",
    "                if all([not nx.is_isomorphic(d_graph,_t) for _t in directed_graphs_from_g]): \n",
    "                    directed_graphs_from_g.append(d_graph)\n",
    "                    canonical_weak_tournaments[nc].append(d_graph)\n",
    "                    \n",
    "    # save the weak tournaments\n",
    "    pickle.dump(canonical_weak_tournaments[nc], open(f\"weak_tourns/weak_tourns_{nc}.pkl\", \"wb\"))\n",
    "\n",
    "print(\"Done creating canonical weak tournaments.\\n\")\n",
    "\n",
    "for nc in numbers_of_candidates: \n",
    "    print(f\"There are {len(canonical_weak_tournaments[nc])} canonical weak tournaments for {nc} candidates\")\n",
    "\n",
    "    \n"
   ]
  },
  {
   "cell_type": "code",
   "execution_count": 4,
   "id": "c7e33b6c",
   "metadata": {},
   "outputs": [
    {
     "name": "stdout",
     "output_type": "stream",
     "text": [
      "Done creating canonical tournaments.\n",
      "\n",
      "There are 1 canonical tournaments for 2 candidates\n",
      "There are 2 canonical tournaments for 3 candidates\n",
      "There are 4 canonical tournaments for 4 candidates\n",
      "There are 12 canonical tournaments for 5 candidates\n",
      "There are 56 canonical tournaments for 6 candidates\n"
     ]
    }
   ],
   "source": [
    "numbers_of_candidates = [2, 3, 4, 5, 6]#, 7]\n",
    "\n",
    "# Set aside the tournaments\n",
    "canonical_tournaments = {n_cands: list() for n_cands in canonical_weak_tournaments.keys()}\n",
    "for n_cands in canonical_weak_tournaments.keys():\n",
    "    for t in canonical_weak_tournaments[n_cands]:\n",
    "        if is_tournament(t):\n",
    "            canonical_tournaments[n_cands].append(t)\n",
    "\n",
    "# save the tournaments\n",
    "for nc in canonical_tournaments.keys():\n",
    "    pickle.dump(canonical_tournaments[nc], open(f\"tourns/tourns_{nc}.pkl\", \"wb\"))\n",
    "\n",
    "print(\"Done creating canonical tournaments.\\n\")\n",
    "\n",
    "for nc in numbers_of_candidates: \n",
    "    print(f\"There are {len(canonical_tournaments[nc])} canonical tournaments for {nc} candidates\")\n"
   ]
  },
  {
   "cell_type": "markdown",
   "id": "ea2cb32f",
   "metadata": {},
   "source": [
    "## Canonical Weighted Tournaments"
   ]
  },
  {
   "cell_type": "markdown",
   "id": "075facf7",
   "metadata": {},
   "source": [
    "The following code generates a representative from each isomorhpism class of uniquely weighted tournaments with weights from $\\{2, 4, 6, 8, 10, 12\\}$. \n",
    "\n",
    "We call these representatives the **canonical weighted tournaments**."
   ]
  },
  {
   "cell_type": "code",
   "execution_count": 5,
   "id": "12204a99",
   "metadata": {},
   "outputs": [],
   "source": [
    "\n",
    "numbers_of_candidates = [2, 3, 4]\n",
    "\n",
    "# name of networkx edge attribute storing each edge's weight\n",
    "edge_attr = 'weight'\n",
    "\n",
    "# possible weights on edges\n",
    "weight_domain = [2, 4, 6, 8, 10, 12]\n",
    "\n",
    "def edge_compare_helper(dict1, dict2, edge_attr):\n",
    "    return dict1[edge_attr] == dict2[edge_attr]\n",
    "\n",
    "edge_compare = (lambda edge_attr: lambda dict1, dict2: edge_compare_helper(dict1, dict2, edge_attr))(edge_attr)\n",
    "\n",
    "def ways(weight_domain, num):\n",
    "    return [x for x in combinations(weight_domain, int(num))]"
   ]
  },
  {
   "cell_type": "code",
   "execution_count": 6,
   "id": "ca74f618",
   "metadata": {
    "scrolled": false
   },
   "outputs": [
    {
     "data": {
      "application/json": {
       "ascii": false,
       "bar_format": null,
       "colour": null,
       "elapsed": 0.03763103485107422,
       "initial": 0,
       "n": 0,
       "ncols": null,
       "nrows": 25,
       "postfix": null,
       "prefix": "",
       "rate": null,
       "total": 1,
       "unit": "it",
       "unit_divisor": 1000,
       "unit_scale": false
      },
      "application/vnd.jupyter.widget-view+json": {
       "model_id": "90279f6566394d189a7fafaf18eecc85",
       "version_major": 2,
       "version_minor": 0
      },
      "text/plain": [
       "  0%|          | 0/1 [00:00<?, ?it/s]"
      ]
     },
     "metadata": {},
     "output_type": "display_data"
    },
    {
     "data": {
      "application/json": {
       "ascii": false,
       "bar_format": null,
       "colour": null,
       "elapsed": 0.028887033462524414,
       "initial": 0,
       "n": 0,
       "ncols": null,
       "nrows": 25,
       "postfix": null,
       "prefix": "",
       "rate": null,
       "total": 2,
       "unit": "it",
       "unit_divisor": 1000,
       "unit_scale": false
      },
      "application/vnd.jupyter.widget-view+json": {
       "model_id": "087351da40524bdbb91aaa77e2a14160",
       "version_major": 2,
       "version_minor": 0
      },
      "text/plain": [
       "  0%|          | 0/2 [00:00<?, ?it/s]"
      ]
     },
     "metadata": {},
     "output_type": "display_data"
    },
    {
     "data": {
      "application/json": {
       "ascii": false,
       "bar_format": null,
       "colour": null,
       "elapsed": 0.01771712303161621,
       "initial": 0,
       "n": 0,
       "ncols": null,
       "nrows": 25,
       "postfix": null,
       "prefix": "",
       "rate": null,
       "total": 4,
       "unit": "it",
       "unit_divisor": 1000,
       "unit_scale": false
      },
      "application/vnd.jupyter.widget-view+json": {
       "model_id": "5334f640c137411697edc6d065c2bab6",
       "version_major": 2,
       "version_minor": 0
      },
      "text/plain": [
       "  0%|          | 0/4 [00:00<?, ?it/s]"
      ]
     },
     "metadata": {},
     "output_type": "display_data"
    },
    {
     "data": {
      "application/json": {
       "ascii": false,
       "bar_format": null,
       "colour": null,
       "elapsed": 0.011909961700439453,
       "initial": 0,
       "n": 0,
       "ncols": null,
       "nrows": 25,
       "postfix": null,
       "prefix": "",
       "rate": null,
       "total": 12,
       "unit": "it",
       "unit_divisor": 1000,
       "unit_scale": false
      },
      "application/vnd.jupyter.widget-view+json": {
       "model_id": "bfb7e77bcbc44fc585453bfbed058516",
       "version_major": 2,
       "version_minor": 0
      },
      "text/plain": [
       "  0%|          | 0/12 [00:00<?, ?it/s]"
      ]
     },
     "metadata": {},
     "output_type": "display_data"
    },
    {
     "data": {
      "application/json": {
       "ascii": false,
       "bar_format": null,
       "colour": null,
       "elapsed": 0.013167142868041992,
       "initial": 0,
       "n": 0,
       "ncols": null,
       "nrows": 25,
       "postfix": null,
       "prefix": "",
       "rate": null,
       "total": 56,
       "unit": "it",
       "unit_divisor": 1000,
       "unit_scale": false
      },
      "application/vnd.jupyter.widget-view+json": {
       "model_id": "667ccc5e60d24a629b763c737708d63c",
       "version_major": 2,
       "version_minor": 0
      },
      "text/plain": [
       "  0%|          | 0/56 [00:00<?, ?it/s]"
      ]
     },
     "metadata": {},
     "output_type": "display_data"
    },
    {
     "name": "stdout",
     "output_type": "stream",
     "text": [
      "Done loading canonical weighted tournaments.\n",
      "\n",
      "There are 6 canonical weighted tournaments for 2 candidates\n",
      "There are 160 canonical weighted tournaments for 3 candidates\n",
      "There are 1920 canonical weighted tournaments for 4 candidates\n"
     ]
    }
   ],
   "source": [
    "can_graphs = canonical_tournaments\n",
    "    \n",
    "canonical_weighted_tournaments = {}\n",
    "\n",
    "for nc, graphs in can_graphs.items():\n",
    "    weighted_tournaments_nc = []\n",
    "\n",
    "    # all combinations of unique edge weights assignable to edges\n",
    "    weightings = ways(weight_domain, comb(nc, 2))\n",
    "\n",
    "    for graph in tqdm(graphs):\n",
    "\n",
    "        for weighting in weightings:\n",
    "            weighted_tournaments_nc_margin_i = []\n",
    "\n",
    "            # all permutations of the assignable edge weights on the edges\n",
    "            perms = list(permutations(weighting))\n",
    "\n",
    "            for perm in perms:                    \n",
    "                g1 = deepcopy(graph)\n",
    "\n",
    "                # assign particular permutation of edge weights to the graph\n",
    "                for i, e in enumerate(g1.edges):\n",
    "                    g1.edges[e][edge_attr] = perm[i]\n",
    "\n",
    "                # if this permutation is isomorphic to one already seen, discard it;\n",
    "                # else add it to the running list of canonical weighted tournaments\n",
    "                if any([nx.algorithms.isomorphism.is_isomorphic(g1, g2, edge_match=edge_compare) \\\n",
    "                        for g2 in weighted_tournaments_nc_margin_i]):\n",
    "                    continue\n",
    "                else:\n",
    "                    weighted_tournaments_nc_margin_i.append(g1)\n",
    "\n",
    "            weighted_tournaments_nc += weighted_tournaments_nc_margin_i\n",
    "\n",
    "    canonical_weighted_tournaments[nc] = weighted_tournaments_nc\n",
    "    \n",
    "    \n",
    "print(\"Done loading canonical weighted tournaments.\\n\")\n",
    "    \n",
    "# save the weighted tournaments\n",
    "for nc in canonical_weighted_tournaments.keys():\n",
    "    pickle.dump(canonical_weighted_tournaments[nc], open(f\"weighted_tourns/weighted_tourns_{nc}.pkl\", \"wb\"))\n",
    "\n",
    "for nc in numbers_of_candidates: \n",
    "    print(f\"There are {len(canonical_weighted_tournaments[nc])} canonical weighted tournaments for {nc} candidates\")\n"
   ]
  },
  {
   "cell_type": "code",
   "execution_count": null,
   "id": "e4f859ac",
   "metadata": {},
   "outputs": [],
   "source": []
  }
 ],
 "metadata": {
  "@webio": {
   "lastCommId": null,
   "lastKernelId": null
  },
  "kernelspec": {
   "display_name": "Python 3",
   "language": "python",
   "name": "python3"
  },
  "language_info": {
   "codemirror_mode": {
    "name": "ipython",
    "version": 3
   },
   "file_extension": ".py",
   "mimetype": "text/x-python",
   "name": "python",
   "nbconvert_exporter": "python",
   "pygments_lexer": "ipython3",
   "version": "3.8.5"
  },
  "varInspector": {
   "cols": {
    "lenName": 16,
    "lenType": 16,
    "lenVar": 40
   },
   "kernels_config": {
    "python": {
     "delete_cmd_postfix": "",
     "delete_cmd_prefix": "del ",
     "library": "var_list.py",
     "varRefreshCmd": "print(var_dic_list())"
    },
    "r": {
     "delete_cmd_postfix": ") ",
     "delete_cmd_prefix": "rm(",
     "library": "var_list.r",
     "varRefreshCmd": "cat(var_dic_list()) "
    }
   },
   "types_to_exclude": [
    "module",
    "function",
    "builtin_function_or_method",
    "instance",
    "_Feature"
   ],
   "window_display": false
  }
 },
 "nbformat": 4,
 "nbformat_minor": 5
}
