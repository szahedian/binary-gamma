{
 "cells": [
  {
   "attachments": {},
   "cell_type": "markdown",
   "metadata": {},
   "source": [
    "# SAT Solving for Pairwise Methods\n",
    "\n",
    "In this notebook, we use a SAT solver to prove Proposition B.3 from the paper \"[Impossibility theorems involving weakenings of expansion consistency and resoluteness in voting \n",
    "](https://arxiv.org/abs/2208.06907)\" by Wesley H. Holliday, Chase Norman, Eric Pacuit, and Saam Zahedian. Another version of the SAT encoding has been formally verified in the Lean Theorem Prover at [https://github.com/chasenorman/verified-encodings-social-choice](https://github.com/chasenorman/verified-encodings-social-choice)."
   ]
  },
  {
   "cell_type": "markdown",
   "metadata": {},
   "source": [
    "## Notebook Overview\n",
    "\n",
    "1. **SAT Encoding**\n",
    "    1. SAT setup\n",
    "    2. Functionality\n",
    "3. **Weighted tournament embeddings**\n",
    "    1. Weighted tournament embedding example\n",
    "    2. Generate canonical weighted tournament embeddings\n",
    "4. **Binary $\\gamma$**\n",
    "5. **Demonstration of Proposition B.3**\n",
    "6. **Minimal set of weighted tournaments to prove Proposition B.3**"
   ]
  },
  {
   "cell_type": "code",
   "execution_count": 1,
   "metadata": {},
   "outputs": [],
   "source": [
    "from itertools import product, combinations, permutations\n",
    "import pickle\n",
    "import networkx as nx # for graphs\n",
    "import matplotlib.pyplot as plt\n",
    "from pysat.solvers import Glucose3 # SAT solver\n",
    "from copy import deepcopy\n",
    "from scipy.special import comb\n",
    "from tqdm.notebook import tqdm"
   ]
  },
  {
   "cell_type": "code",
   "execution_count": 2,
   "metadata": {},
   "outputs": [],
   "source": [
    "# helper function\n",
    "\n",
    "def display_wt(wt, edge_attr):\n",
    "    \"\"\"Display a weighted tournament with edge weights\"\"\"\n",
    "    pos = nx.circular_layout(wt)\n",
    "    nx.draw(wt, pos, font_size=20, node_color='blue', font_color='white',\n",
    "            node_size=700, width=1, with_labels=True)\n",
    "    \n",
    "    edge_labels = nx.get_edge_attributes(wt, edge_attr)\n",
    "    nx.draw_networkx_edge_labels(wt, pos, edge_labels=edge_labels, label_pos=0.3)\n",
    "    plt.show()\n"
   ]
  },
  {
   "cell_type": "code",
   "execution_count": 3,
   "metadata": {},
   "outputs": [],
   "source": [
    "# Paths to pickled weak tournaments\n",
    "canonical_weighted_tournament_paths = {\n",
    "    2: 'weighted_tourns/weighted_tourns_2.pkl',\n",
    "    3: 'weighted_tourns/weighted_tourns_3.pkl',\n",
    "    4: 'weighted_tourns/weighted_tourns_4.pkl',\n",
    "}\n",
    "\n",
    "# Load all the canonical weighted tournaments\n",
    "canonical_weighted_tournaments = {nc: pickle.load(open(canonical_weighted_tournament_paths[nc], 'rb'))\n",
    "                                  for nc in range(2,5)}\n"
   ]
  },
  {
   "cell_type": "markdown",
   "metadata": {},
   "source": [
    "## 1. SAT Encoding\n",
    "\n",
    "### A. SAT setup\n",
    "\n",
    "We use the [PySAT](https://pysathq.github.io/) toolkit to interface with a SAT solver. Formulas in PySAT are written in conjunctive normal form. Disjunctions are written as lists of integers. A positive integer denotes a propositional variable, a negative integer its negation.\n",
    "\n",
    "We restrict attention to uniquely weighted canonical weighted tournaments.  Rather than stating quasi-resoluteness as an axiom, we build quasi-resoluteness into our encoding: For a canonical weighted tournament $T$ and a candidate $a$ let $A_{T,a}$ be a propositional variable, where\n",
    "$A_{T,a}$ means that $a$ is the winner associated with $T$ and  $\\neg A_{T,a}$ means that $a$ is not the winner associated with $T$."
   ]
  },
  {
   "cell_type": "code",
   "execution_count": 4,
   "metadata": {},
   "outputs": [],
   "source": [
    "def find_possible_winners(min_num_cands, max_num_cands, canonical_graphs): \n",
    "    \"\"\"\n",
    "    takes dictionary of canonical graphs and range of graph sizes to consider\n",
    "    for each canonical graph, creates tuples containing the graph and a winner\n",
    "    \"\"\"\n",
    "    possible_winners = {nc: list() for nc in range(min_num_cands, max_num_cands + 1)}\n",
    "    for nc in possible_winners.keys():\n",
    "        for g in canonical_graphs[nc]:\n",
    "            candidates = g.nodes\n",
    "\n",
    "            for c in candidates: \n",
    "                possible_winners[nc].append((g, c))\n",
    "    return possible_winners"
   ]
  },
  {
   "cell_type": "code",
   "execution_count": 5,
   "metadata": {},
   "outputs": [],
   "source": [
    "def generate_wt_dictionary(possible_winners):\n",
    "    \"\"\"\n",
    "    takes a dictionary of (weak) tournaments and returns a dictionary (t, ws) -> int\n",
    "    t is a tournament in 'possible_winners' and ws is a winning set on t satisfying the orbit condition\n",
    "    \"\"\"\n",
    "    wt_dictionary = {}\n",
    "    wt_id = 1\n",
    "    for nc in possible_winners.keys(): \n",
    "        for wt, w in possible_winners[nc]:\n",
    "            wt_dictionary.update({(wt, w): wt_id})\n",
    "            wt_id += 1\n",
    "    return wt_dictionary"
   ]
  },
  {
   "cell_type": "markdown",
   "metadata": {},
   "source": [
    "### B. Functionality\n",
    "\n",
    "The first step is to write a list of clauses for the formula $\\mathsf{func}$ in Section B.2. The formula says that for each weighted weak tournament $T$, some candidate wins that is associated with $T$, and it is not the case that two winners are associated with $T$.\n",
    "\n",
    "For instance, suppose that $T$ is a weighted tournament and there are three possible winning sets for $T$,  $a_1$, $a_2$ and $a_3$. We add the following conjuncts to the formula: \n",
    "\n",
    "1. $A_{T,a_1}\\vee A_{T,a_2}\\vee A_{T,a_3}$\n",
    "2. $\\neg A_{T,a_1}\\vee \\neg A_{T,a_2}$\n",
    "3. $\\neg A_{T,a_1}\\vee \\neg A_{T,a_3}$\n",
    "4. $\\neg A_{T,a_2}\\vee \\neg A_{T,a_3}$.\n",
    "\n",
    "The conjunction of these formulas says that exactly one of formulas $A_{T,a_1}$, $A_{T, a_2}$ or $A_{T, a_3}$ is true: \n",
    "\n",
    "$$(A_{T,a_1}\\vee A_{T,a_2}\\vee A_{T,a_3}) \\wedge (\\neg A_{T,a_1}\\vee \\neg A_{T,a_2})\\wedge (\\neg A_{T,a_1}\\vee \\neg A_{T,a_3})\\wedge (\\neg A_{T,a_2}\\vee \\neg A_{T,a_3}).$$\n",
    "\n",
    "Then the above formula means that exactly one of $a_1$, $a_2$ or $a_3$ is the winner associated with $T$. "
   ]
  },
  {
   "cell_type": "code",
   "execution_count": 6,
   "metadata": {
    "scrolled": true
   },
   "outputs": [],
   "source": [
    "def generate_function_formula(graphs, wt_dictionary): \n",
    "    \"\"\"\n",
    "    takes a list of all graphs 'graphs' and a dictionary of possible winners on those graphs 'wwt_dictionary'\n",
    "    returns CNF clauses ensuring that only one winning set will be chosen per graph\n",
    "    \"\"\"\n",
    "    C_func = list()\n",
    "    for g in graphs:     \n",
    "        # get the list of all atomic formulas describing a possible winning set\n",
    "        poss_ws = [wt_dictionary[(_g, w)] for _g, w in wt_dictionary.keys() if _g == g]\n",
    "        # NOTE: we use equality rather than testing for graph isomporphism.  This makes sense since\n",
    "        # graphs is the set of the networkx objects representing the canonical tournaments and \n",
    "        # the keys of wwt_dictionary are tuples where the first components is an object from this lest. \n",
    "        C_func.append(poss_ws) # one of the possible winning sets is the winner\n",
    "        for pairs in combinations(poss_ws, 2):\n",
    "            # add a clause saying that it is not the case that two possible winning sets are associated \n",
    "            # with a weighted tournament\n",
    "            C_func.append([0 - pairs[0], 0 - pairs[1]])\n",
    "\n",
    "    return C_func"
   ]
  },
  {
   "cell_type": "code",
   "execution_count": 7,
   "metadata": {
    "scrolled": true
   },
   "outputs": [
    {
     "name": "stdout",
     "output_type": "stream",
     "text": [
      "Done finding the possible winners.\n",
      "Done creating the encoding.\n",
      "Done creating the function formula.\n",
      "\n",
      "\n",
      "Should be true expressing that there is a weighted tournament solution on the domain: True\n",
      "\n"
     ]
    }
   ],
   "source": [
    "# Sanity check: This should output True since it is always possible \n",
    "# to find some weighted tournament solution on a domain of weighted tournaments\n",
    "\n",
    "min_num_cands, max_num_cands = 2, 4\n",
    "\n",
    "canonical_graphs = canonical_weighted_tournaments\n",
    "graphs = [wt for nc in range(min_num_cands, max_num_cands + 1)  for wt in canonical_graphs[nc]]\n",
    "\n",
    "possible_winners = find_possible_winners(min_num_cands, max_num_cands, canonical_graphs)\n",
    "print(\"Done finding the possible winners.\")\n",
    "\n",
    "wt_dictionary = generate_wt_dictionary(possible_winners)\n",
    "print(\"Done creating the encoding.\")\n",
    "\n",
    "C_func = generate_function_formula(graphs, wt_dictionary)\n",
    "print(\"Done creating the function formula.\\n\\n\")\n",
    "\n",
    "sat_solver = Glucose3()\n",
    "for cl in C_func:\n",
    "    sat_solver.add_clause(cl)\n",
    "print(f\"Should be true expressing that there is a weighted tournament solution on the domain: {sat_solver.solve()}\\n\")\n",
    "\n",
    "# uncomment to see the model (list of literals that are true)\n",
    "#print(sat_solver.get_model())"
   ]
  },
  {
   "cell_type": "markdown",
   "metadata": {},
   "source": [
    "## 2. Weighted tournament embeddings\n",
    "\n",
    "\n",
    "Note that we use \"embedding\" as it is used in model theory, which is equivalent to being isomorphic to a substructure (see W. Hodges, \"Model Theory\", pp. 5-6). A canonical weighted tournament $T'$ is a substructure of the canonical weighted tournament $T$ when the set of candidates of $T'$ is a subset of the set of candidates of $T$ and for any candidates $x, y$ in $T'$, there is an edge from $x$ to $y$ in $T'$ with weight $n$ if and only if there is an edge from $x$ to $y$ with weight $n$ in $T$.\n",
    "\n",
    "[Networkx](https://networkx.org/documentation/stable/reference/algorithms/isomorphism.vf2.html#digraph-matcher) has an algorithm to find isomorphisms from *subgraphs* of $T$ to a graph $T'$.  However, what networkx means by a \"subgraph\" is not the same as a substructure.   A canonical weak tournament $T'$ is a *subgraph* of $T$ when the set of candidates of $T'$ is a subset of the set of candidates of $T$ and  for any candidates $x, y$ in $T'$, if there is an edge from $x$ to $y$ in $T'$, then there is an edge from $x$ to $y$ in $T$. \n",
    "\n",
    "If $T'$ is a (weighted) tournament, then $T'$ is a subgraph of $T$ iff $T'$ is a substructure of $T$. However, since the following code may be run on *weak* (weighted) tournaments, we include the following function to verify that an isomorphism from a subgraph is indeed an embedding. "
   ]
  },
  {
   "cell_type": "code",
   "execution_count": 8,
   "metadata": {},
   "outputs": [],
   "source": [
    "def is_embedding(small_g, big_g, iso):\n",
    "    \"\"\"\n",
    "    iso is an isomorphism from small_g to a subgraph of big_g,\n",
    "    but we must check whether iso is an embedding. \n",
    "    returns True if iso is an embedding of small_g into big_g. \n",
    "    \n",
    "    Returns True if for every pair of candidates c1 and c2 in small_g, \n",
    "    if there is an edge between iso[c1] and iso[c2] in big_g, then \n",
    "    there is an edge between c1 and c2 in small_g\n",
    "    \"\"\"\n",
    "    for c1, c2 in product(small_g.nodes, small_g.nodes): \n",
    "        if big_g.has_edge(iso[c1],iso[c2]) and not small_g.has_edge(c1,c2):\n",
    "            return False\n",
    "    return True    "
   ]
  },
  {
   "cell_type": "markdown",
   "metadata": {},
   "source": [
    "A verified _tournament_ embedding is not necessarily a _weighted tournament_ embedding. The function below checks whether a verified tournament embedding also preserves edge weights and is thus a weighted tournament embedding."
   ]
  },
  {
   "cell_type": "code",
   "execution_count": 9,
   "metadata": {},
   "outputs": [],
   "source": [
    "# helper function that transforms edges under an isomorphism\n",
    "edge_conv = lambda e, iso: (iso[e[0]], iso[e[1]])\n",
    "\n",
    "def preserves_weights(small_g, big_g, iso, edge_attr, verbose=False):\n",
    "    \"\"\"\n",
    "    takes weighted tournament small_g, big_g and an embedding iso from small_g to big_g\n",
    "    returns true if iso preserves weights from small_g to big_g\n",
    "    \"\"\"\n",
    "    for e in small_g.edges:\n",
    "        if small_g.edges[e][edge_attr] != big_g.edges[edge_conv(e, iso)][edge_attr]:\n",
    "            if verbose:\n",
    "                print(\"The edge {} in the small graph embeds into the edge {} in the big graph, but the weight of {} in the small graph doesn't match the weight of {} in the big graph.\".format(e, edge_conv(e, iso), e, edge_conv(e, iso)))\n",
    "            return False\n",
    "    return True"
   ]
  },
  {
   "cell_type": "markdown",
   "metadata": {},
   "source": [
    "### A. Weighted tournament embedding example\n",
    "\n",
    "Run the  following code to illustrate the definition of a weighted tournament embedding and why a tournament embeddings is not necessarily a weighted tournament embedding.  "
   ]
  },
  {
   "cell_type": "code",
   "execution_count": 10,
   "metadata": {},
   "outputs": [
    {
     "name": "stdout",
     "output_type": "stream",
     "text": [
      "T1: a canonical weighted tournament for 4 candidates: \n"
     ]
    },
    {
     "data": {
      "image/png": "[encoded data removed]",
      "text/plain": [
       "<Figure size 432x288 with 1 Axes>"
      ]
     },
     "metadata": {},
     "output_type": "display_data"
    },
    {
     "name": "stdout",
     "output_type": "stream",
     "text": [
      "T2: a canonical weighted tournament for 3 candidates: \n"
     ]
    },
    {
     "data": {
      "image/png": "[encoded data removed]",
      "text/plain": [
       "<Figure size 432x288 with 1 Axes>"
      ]
     },
     "metadata": {},
     "output_type": "display_data"
    },
    {
     "name": "stdout",
     "output_type": "stream",
     "text": [
      "All the tournament embeddings between the weighted tournament T2 with 3 candidates and subgraphs of the weighted tournament T1 with 4 candidates:\n",
      "\n",
      "e(0) = 0, e(1) = 1, e(2) = 2\n",
      "The edge (1, 2) in the small graph embeds into the edge (1, 2) in the big graph, but the weight of (1, 2) in the small graph doesn't match the weight of (1, 2) in the big graph.\n",
      "\tSo this tournament embedding is not a weighted tournament embedding.\n",
      "\n",
      "\n",
      "e(0) = 0, e(1) = 2, e(2) = 3\n",
      "The edge (0, 1) in the small graph embeds into the edge (0, 2) in the big graph, but the weight of (0, 1) in the small graph doesn't match the weight of (0, 2) in the big graph.\n",
      "\tSo this tournament embedding is not a weighted tournament embedding.\n",
      "\n",
      "\n",
      "e(0) = 0, e(1) = 3, e(2) = 1\n",
      "The edge (0, 1) in the small graph embeds into the edge (0, 3) in the big graph, but the weight of (0, 1) in the small graph doesn't match the weight of (0, 3) in the big graph.\n",
      "\tSo this tournament embedding is not a weighted tournament embedding.\n",
      "\n",
      "\n"
     ]
    }
   ],
   "source": [
    "# name of networkx edge attribute storing each edge's weight\n",
    "edge_attr = 'weight'\n",
    "\n",
    "T1 = canonical_weighted_tournaments[4][3]\n",
    "\n",
    "print(\"T1: a canonical weighted tournament for 4 candidates: \")\n",
    "display_wt(T1, edge_attr)\n",
    "\n",
    "print(\"T2: a canonical weighted tournament for 3 candidates: \")\n",
    "T2 = canonical_weighted_tournaments[3][0]\n",
    "display_wt(T2, edge_attr)\n",
    "\n",
    "print(\"All the tournament embeddings between the weighted tournament T2 with 3 candidates and subgraphs of the weighted tournament T1 with 4 candidates:\\n\")\n",
    "for iso in nx.algorithms.isomorphism.GraphMatcher(T1, T2).subgraph_isomorphisms_iter():\n",
    "    # iso is a dictionary mapping a subset of elements of the bigger graph T1 to the \n",
    "    # small graph T2, but it is easier to think about the inverse function mapping \n",
    "    # nodes in the small graph T2 into the bigger graph T1. \n",
    "    inverse_iso = {v:k for k,v in iso.items()}\n",
    "    \n",
    "    if not is_embedding(T2, T1, inverse_iso):\n",
    "        continue\n",
    "    \n",
    "    print(\", \".join([f\"e({c1}) = {c2}\" for c1, c2 in inverse_iso.items()]))\n",
    "    \n",
    "    if preserves_weights(T2, T1, inverse_iso, edge_attr, verbose=True):\n",
    "        print(\"\\tThis tournament embedding is also a weighted tournament embedding.\\n\\n\")\n",
    "    else:\n",
    "        print(\"\\tSo this tournament embedding is not a weighted tournament embedding.\\n\\n\")"
   ]
  },
  {
   "cell_type": "markdown",
   "metadata": {},
   "source": [
    "### B. Generate weighted tournament embeddings\n",
    "\n",
    "Find all weighted tournament embeddings between canonical weighted tournaments of size $n$ and canonical weighted tournaments of size $n+1$. "
   ]
  },
  {
   "cell_type": "code",
   "execution_count": 11,
   "metadata": {
    "scrolled": false
   },
   "outputs": [],
   "source": [
    "def edge_compare_helper(dict1, dict2, edge_attr):\n",
    "    return dict1[edge_attr] == dict2[edge_attr]\n",
    "\n",
    "edge_compare = (lambda edge_attr: lambda dict1, dict2: edge_compare_helper(dict1, dict2, edge_attr))(edge_attr)\n",
    "\n",
    "def find_embeddings(min_num_cands, max_num_cands, canonical_graphs, edge_attr):\n",
    "    \"\"\"\n",
    "    find embeddings of graphs in 'canonical_graphs',\n",
    "    embeddings of n-tournaments to (n+1)-tournaments, for n=min_num_cands,...,max_num_cands-1\n",
    "    \"\"\"\n",
    "    embeddings = list()\n",
    "\n",
    "    for nc in range(min_num_cands, max_num_cands): \n",
    "        # for each number of candidate between min_num_cands and max_num_cands - 1  \n",
    "\n",
    "        for g1 in canonical_graphs[nc]: \n",
    "            # for each canonical graph of size nc    \n",
    "\n",
    "            for g2 in canonical_graphs[nc+1]:\n",
    "                # for each canonical graph of size nc+1\n",
    "\n",
    "                seen_ranges = set()\n",
    "\n",
    "                for iso in nx.algorithms.isomorphism.GraphMatcher(g2, g1, edge_match=edge_compare).subgraph_isomorphisms_iter():\n",
    "                    # for each isomporphism from g1 to a subgraph of g2\n",
    "\n",
    "                    # NOTE: iso is a dictionary associating a subset of nodes from g2 to the nodes in g1\n",
    "                    # It's easier to think about the isomorphism as a mapping from the smaller graph g1 \n",
    "                    # into the bigger graph g2:\n",
    "                    inverse_iso = {v:k for k,v in iso.items()}\n",
    "\n",
    "                    rng = tuple(sorted(iso.keys())) # the range of the isomorphism (nodes in the bigger graph)\n",
    "                    if not rng in seen_ranges and is_embedding(g1, g2, inverse_iso) and \\\n",
    "                    preserves_weights(g1, g2, inverse_iso, edge_attr):\n",
    "                        # if haven't seen the range yet, g1 is an embedding into g2, \n",
    "                        # and the embedding preserves edge weights\n",
    "                        seen_ranges.add(rng)\n",
    "                        # record the smaller graph g1, larger graph g2 and isomorphism from g1 to g2\n",
    "                        embeddings.append((g1, g2, inverse_iso))  \n",
    "    return embeddings"
   ]
  },
  {
   "cell_type": "markdown",
   "metadata": {},
   "source": [
    "## 3. Binary $\\gamma$"
   ]
  },
  {
   "cell_type": "code",
   "execution_count": 12,
   "metadata": {
    "scrolled": true
   },
   "outputs": [],
   "source": [
    "def generate_bg_formula(min_num_cands, \n",
    "                        max_num_cands, \n",
    "                        canonical_graphs, \n",
    "                        wt_dictionary, \n",
    "                        embeddings,\n",
    "                        edge_attr): \n",
    "    \"\"\"\n",
    "    returns CNF clauses expressing binary gamma\n",
    "    \"\"\"\n",
    "    C_bg = list()\n",
    "    \n",
    "    can_2_tourn_dict = {[e[2]['weight'] for e in wt.edges(data=True)][0]: wt  \n",
    "                        for wt in canonical_graphs[2]}\n",
    "\n",
    "    can_2_tourn_maj_pref_cand = [c for c in can_2_tourn_dict[2].nodes \n",
    "                                 if can_2_tourn_dict[2].out_degree(c) == 1][0]\n",
    "    \n",
    "    can_2_tourn_min_pref_cand = [c for c in can_2_tourn_dict[2].nodes \n",
    "                                 if c != can_2_tourn_maj_pref_cand][0]\n",
    "\n",
    "\n",
    "    for nc in range(min_num_cands, max_num_cands + 1):\n",
    "\n",
    "        for t1 in canonical_graphs[nc]:\n",
    "            # for each canonical weighted tournament for nc candidates\n",
    "            \n",
    "            for emb in [_emb for _emb in embeddings if _emb[0] == t1]: \n",
    "                # for each possible embedding from t1 into a canonical majority graph emb[1]\n",
    "                \n",
    "                t2 = emb[1]\n",
    "                # t2 is a canonical weighted tournament for nc+1 candidates, which t1 embeds into\n",
    "                \n",
    "                new_cand = list(set(emb[1].nodes).difference(set(emb[2].values())))[0]\n",
    "                # new_cand is the candidate in t2 not in the range of the embedding from t1 to t2\n",
    "                \n",
    "                for cand in t1.nodes:\n",
    "                    cand_t2 = emb[2][cand]\n",
    "                    if (cand_t2, new_cand) in t2.edges: # if cand_t2 is majority preferred to new_cand\n",
    "                        \n",
    "                        # if cand is a winner in t1\n",
    "                        clause = [-wt_dictionary[(t1, cand)]]\n",
    "                        \n",
    "                        # and in the two-candidate tournament isomorphic to the restriction of t2 to {cand_t2,new_cand}, the image of cand_t2 wins\n",
    "                        can_2_tourn = can_2_tourn_dict[t2.edges[(cand_t2, new_cand)][edge_attr]]\n",
    "                        clause += [-wt_dictionary[(can_2_tourn, can_2_tourn_maj_pref_cand)]]    \n",
    "                        \n",
    "                        # then cand_t2 must be the winner in t2\n",
    "                        clause += [wt_dictionary[(t2, cand_t2)]]                       \n",
    "                        \n",
    "                        C_bg.append(clause)\n",
    "                            \n",
    "                    elif (new_cand, cand_t2) in t2.edges: # if new_cand is majority preferred to cand_t2\n",
    "                        \n",
    "                        # if cand is a winner in t1\n",
    "                        clause = [-wt_dictionary[(t1, cand)]]\n",
    "\n",
    "                        # and in the two-candidate tournament isomorphic to the restriction of t2 to {cand_t2,new_cand}, the image of cand_t2 wins\n",
    "                        can_2_tourn = can_2_tourn_dict[t2.edges[(new_cand, cand_t2)][edge_attr]]\n",
    "                        clause += [-wt_dictionary[(can_2_tourn, can_2_tourn_min_pref_cand)]]\n",
    "                        \n",
    "                        # then cand_t2 must be the winner in t2\n",
    "                        clause += [wt_dictionary[(t2, cand_t2)]]                       \n",
    "                        \n",
    "                        C_bg.append(clause)\n",
    "                            \n",
    "                    else:\n",
    "                        raise Exception\n",
    "                        \n",
    "    return C_bg\n"
   ]
  },
  {
   "cell_type": "markdown",
   "metadata": {
    "scrolled": false
   },
   "source": [
    "## 4. Demonstration of Proposition B.3"
   ]
  },
  {
   "cell_type": "code",
   "execution_count": 13,
   "metadata": {},
   "outputs": [
    {
     "name": "stdout",
     "output_type": "stream",
     "text": [
      "Done finding the possible winners.\n",
      "Done creating the encoding.\n",
      "Done creating the function formula.\n"
     ]
    }
   ],
   "source": [
    "min_num_cands,max_num_cands = 2, 4\n",
    "\n",
    "canonical_graphs = canonical_weighted_tournaments\n",
    "\n",
    "graphs = [mg for nc in range(min_num_cands, max_num_cands + 1) for mg in  canonical_graphs[nc]]\n",
    "\n",
    "possible_winners = find_possible_winners(min_num_cands, max_num_cands, canonical_graphs)\n",
    "print(\"Done finding the possible winners.\")\n",
    "\n",
    "wt_dictionary = generate_wt_dictionary(possible_winners)\n",
    "print(\"Done creating the encoding.\")\n",
    "\n",
    "C_func = generate_function_formula(graphs, wt_dictionary)\n",
    "print(\"Done creating the function formula.\")\n"
   ]
  },
  {
   "cell_type": "code",
   "execution_count": 14,
   "metadata": {},
   "outputs": [
    {
     "name": "stdout",
     "output_type": "stream",
     "text": [
      "Done creating the embeddings.\n",
      "Done creating the BG clauses\n"
     ]
    }
   ],
   "source": [
    "\n",
    "embeddings = find_embeddings(min_num_cands, max_num_cands, canonical_graphs, edge_attr)\n",
    "print(\"Done creating the embeddings.\")\n",
    "\n",
    "C_bg = generate_bg_formula(min_num_cands, \n",
    "                           max_num_cands, \n",
    "                           canonical_graphs, \n",
    "                           wt_dictionary, \n",
    "                           embeddings,\n",
    "                           edge_attr)\n",
    "\n",
    "print(\"Done creating the BG clauses\")"
   ]
  },
  {
   "cell_type": "code",
   "execution_count": 15,
   "metadata": {},
   "outputs": [
    {
     "name": "stdout",
     "output_type": "stream",
     "text": [
      "There is no canonical weighted tournament solution up to 4 candidates that satisfies the orbit condition, QR and BG.\n"
     ]
    }
   ],
   "source": [
    "formula = C_func + C_bg\n",
    "\n",
    "sat_solver = Glucose3()\n",
    "for cl in formula:\n",
    "    sat_solver.add_clause(cl)\n",
    "\n",
    "if sat_solver.solve(): \n",
    "    print(f\"There is a canonical weighted tournament solution up to {max_num_cands} candidates that satisfies the orbit condition, QR and BG.\")\n",
    "else: \n",
    "    print(f\"There is no canonical weighted tournament solution up to {max_num_cands} candidates that satisfies the orbit condition, QR and BG.\")\n",
    "# uncomment to see the modle (list of literals that are true)\n",
    "#print(sat_solver.get_model())\n",
    "vm = sat_solver.get_model()"
   ]
  },
  {
   "cell_type": "markdown",
   "metadata": {},
   "source": [
    "## 5. Minimal set of weighted tournaments to prove Proposition B.3\n",
    "\n",
    "It turns out that not all of the canonical weighted tournaments used above are needed for the unsatisfiability result.   Below, we load two minimal sets of canonical tournaments that suffice for the unsatisfiability.   By *minimal* we mean that removing any tournament from the set results in a satisfiability result.  "
   ]
  },
  {
   "cell_type": "markdown",
   "metadata": {},
   "source": [
    "### First minimal set of weighted tournaments\n",
    "\n",
    "First, we import a minimal set obtained the \"naive approach\" described in Appendix B.4"
   ]
  },
  {
   "cell_type": "code",
   "execution_count": 16,
   "metadata": {},
   "outputs": [],
   "source": [
    "wts_for_impossibility = pickle.load(open(\"./graphs_for_impossibilities/wts_for_impossibility.pkl\", \"rb\"))"
   ]
  },
  {
   "cell_type": "code",
   "execution_count": 17,
   "metadata": {},
   "outputs": [
    {
     "name": "stdout",
     "output_type": "stream",
     "text": [
      "There are 6 weighted tournaments with 2 candidates.\n",
      "There are 140 weighted tournaments with 3 candidates.\n",
      "There are 570 weighted tournaments with 4 candidates.\n"
     ]
    }
   ],
   "source": [
    "min_set_canonical_weighted_tournaments = dict()\n",
    "min_set_canonical_weighted_tournaments[2] = canonical_weighted_tournaments[2]\n",
    "min_set_canonical_weighted_tournaments[3] = [wt for wt in wts_for_impossibility if len(wt.nodes) == 3]\n",
    "min_set_canonical_weighted_tournaments[4] = [wt for wt in wts_for_impossibility if len(wt.nodes) == 4]\n",
    "\n",
    "for nc in min_set_canonical_weighted_tournaments.keys(): \n",
    "    print(f\"There are {len(min_set_canonical_weighted_tournaments[nc])} weighted tournaments with {nc} candidates.\")"
   ]
  },
  {
   "cell_type": "code",
   "execution_count": 18,
   "metadata": {
    "scrolled": false
   },
   "outputs": [
    {
     "name": "stdout",
     "output_type": "stream",
     "text": [
      "Done finding the possible winners.\n",
      "Done creating the encoding.\n",
      "Done creating the function formula.\n",
      "Done creating the embeddings.\n",
      "Done creating the BG clauses\n"
     ]
    }
   ],
   "source": [
    "min_num_cands,max_num_cands = 2, 4\n",
    "\n",
    "canonical_graphs = min_set_canonical_weighted_tournaments\n",
    "\n",
    "graphs = [mg for nc in range(min_num_cands, max_num_cands + 1) for mg in canonical_graphs[nc]]\n",
    "\n",
    "possible_winners = find_possible_winners(min_num_cands, max_num_cands, canonical_graphs)\n",
    "print(\"Done finding the possible winners.\")\n",
    "\n",
    "wt_dictionary = generate_wt_dictionary(possible_winners)\n",
    "print(\"Done creating the encoding.\")\n",
    "\n",
    "C_func = generate_function_formula(graphs, wt_dictionary)\n",
    "print(\"Done creating the function formula.\")\n",
    "\n",
    "embeddings = find_embeddings(min_num_cands, max_num_cands, canonical_graphs, edge_attr)\n",
    "print(\"Done creating the embeddings.\")\n",
    "\n",
    "C_bg = generate_bg_formula(min_num_cands, \n",
    "                           max_num_cands, \n",
    "                           canonical_graphs, \n",
    "                           wt_dictionary, \n",
    "                           embeddings,\n",
    "                           edge_attr)\n",
    "print(\"Done creating the BG clauses\")"
   ]
  },
  {
   "cell_type": "code",
   "execution_count": 19,
   "metadata": {},
   "outputs": [
    {
     "name": "stdout",
     "output_type": "stream",
     "text": [
      "There is no canonical weighted tournament solution up to 4 candidates that satisfies the orbit condition, QR and BG.\n"
     ]
    }
   ],
   "source": [
    "formula = C_func + C_bg\n",
    "\n",
    "sat_solver = Glucose3()\n",
    "for cl in formula:\n",
    "    sat_solver.add_clause(cl)\n",
    "\n",
    "if sat_solver.solve(): \n",
    "    print(f\"There is a canonical weighted tournament solution up to {max_num_cands} candidates that satisfies the orbit condition, QR and BG.\")\n",
    "else: \n",
    "    print(f\"There is no canonical weighted tournament solution up to {max_num_cands} candidates that satisfies the orbit condition, QR and BG.\")\n",
    "# uncomment to see the modle (list of literals that are true)\n",
    "#print(sat_solver.get_model())\n",
    "vm = sat_solver.get_model()"
   ]
  },
  {
   "cell_type": "markdown",
   "metadata": {},
   "source": [
    "### Second minimal set of weighted tournaments\n",
    "\n",
    "Next, we import a minimal set of weighted tournaments extracted from the MUS provided by PicoMUS as described in Appendix B.4"
   ]
  },
  {
   "cell_type": "code",
   "execution_count": 20,
   "metadata": {},
   "outputs": [],
   "source": [
    "all_gs_mus_dict = pickle.load(open(\"./graphs_for_impossibilities/all_gs_mus_dict_pairwise.pkl\", \"rb\"))"
   ]
  },
  {
   "cell_type": "code",
   "execution_count": 21,
   "metadata": {},
   "outputs": [
    {
     "name": "stdout",
     "output_type": "stream",
     "text": [
      "There are 6 weighted tournaments with 2 candidates.\n",
      "There are 160 weighted tournaments with 3 candidates.\n",
      "There are 1484 weighted tournaments with 4 candidates.\n"
     ]
    }
   ],
   "source": [
    "for nc in all_gs_mus_dict.keys():\n",
    "    print(f\"There are {len(all_gs_mus_dict[nc])} weighted tournaments with {nc} candidates.\")\n",
    "    "
   ]
  },
  {
   "cell_type": "code",
   "execution_count": 22,
   "metadata": {},
   "outputs": [
    {
     "name": "stdout",
     "output_type": "stream",
     "text": [
      "Done finding the possible winners.\n",
      "Done creating the encoding.\n",
      "Done creating the function formula.\n",
      "Done creating the embeddings.\n"
     ]
    }
   ],
   "source": [
    "min_num_cands,max_num_cands = 2, 4\n",
    "\n",
    "canonical_graphs = min_set_canonical_weighted_tournaments\n",
    "\n",
    "graphs = [mg for nc in range(min_num_cands, max_num_cands + 1) for mg in canonical_graphs[nc]]\n",
    "\n",
    "possible_winners = find_possible_winners(min_num_cands, max_num_cands, canonical_graphs)\n",
    "print(\"Done finding the possible winners.\")\n",
    "\n",
    "wt_dictionary = generate_wt_dictionary(possible_winners)\n",
    "print(\"Done creating the encoding.\")\n",
    "\n",
    "C_func = generate_function_formula(graphs, wt_dictionary)\n",
    "print(\"Done creating the function formula.\")\n",
    "\n",
    "embeddings = find_embeddings(min_num_cands, max_num_cands, canonical_graphs, edge_attr)\n",
    "print(\"Done creating the embeddings.\")"
   ]
  },
  {
   "cell_type": "code",
   "execution_count": 23,
   "metadata": {},
   "outputs": [
    {
     "name": "stdout",
     "output_type": "stream",
     "text": [
      "Done creating the BG clauses\n"
     ]
    }
   ],
   "source": [
    "C_bg = generate_bg_formula(min_num_cands, \n",
    "                           max_num_cands, \n",
    "                           canonical_graphs, \n",
    "                           wt_dictionary, \n",
    "                           embeddings,\n",
    "                           edge_attr)\n",
    "print(\"Done creating the BG clauses\")"
   ]
  },
  {
   "cell_type": "code",
   "execution_count": 24,
   "metadata": {},
   "outputs": [
    {
     "name": "stdout",
     "output_type": "stream",
     "text": [
      "There is no canonical weighted tournament solution up to 4 candidates that satisfies the orbit condition, QR and BG.\n"
     ]
    }
   ],
   "source": [
    "formula = C_func + C_bg\n",
    "\n",
    "sat_solver = Glucose3()\n",
    "for cl in formula:\n",
    "    sat_solver.add_clause(cl)\n",
    "\n",
    "if sat_solver.solve(): \n",
    "    print(f\"There is a canonical weighted tournament solution up to {max_num_cands} candidates that satisfies the orbit condition, QR and BG.\")\n",
    "else: \n",
    "    print(f\"There is no canonical weighted tournament solution up to {max_num_cands} candidates that satisfies the orbit condition, QR and BG.\")\n",
    "# uncomment to see the modle (list of literals that are true)\n",
    "#print(sat_solver.get_model())\n",
    "\n",
    "\n"
   ]
  },
  {
   "cell_type": "code",
   "execution_count": null,
   "metadata": {},
   "outputs": [],
   "source": []
  }
 ],
 "metadata": {
  "@webio": {
   "lastCommId": null,
   "lastKernelId": null
  },
  "kernelspec": {
   "display_name": "Python 3",
   "language": "python",
   "name": "python3"
  },
  "language_info": {
   "codemirror_mode": {
    "name": "ipython",
    "version": 3
   },
   "file_extension": ".py",
   "mimetype": "text/x-python",
   "name": "python",
   "nbconvert_exporter": "python",
   "pygments_lexer": "ipython3",
   "version": "3.10.8 (main, Oct 13 2022, 09:48:54) [Clang 13.0.0 (clang-1300.0.29.30)]"
  },
  "varInspector": {
   "cols": {
    "lenName": 16,
    "lenType": 16,
    "lenVar": 40
   },
   "kernels_config": {
    "python": {
     "delete_cmd_postfix": "",
     "delete_cmd_prefix": "del ",
     "library": "var_list.py",
     "varRefreshCmd": "print(var_dic_list())"
    },
    "r": {
     "delete_cmd_postfix": ") ",
     "delete_cmd_prefix": "rm(",
     "library": "var_list.r",
     "varRefreshCmd": "cat(var_dic_list()) "
    }
   },
   "types_to_exclude": [
    "module",
    "function",
    "builtin_function_or_method",
    "instance",
    "_Feature"
   ],
   "window_display": false
  },
  "vscode": {
   "interpreter": {
    "hash": "b0fa6594d8f4cbf19f97940f81e996739fb7646882a419484c72d19e05852a7e"
   }
  }
 },
 "nbformat": 4,
 "nbformat_minor": 4
}
