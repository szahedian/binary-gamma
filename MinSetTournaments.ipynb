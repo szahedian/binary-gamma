{
 "cells": [
  {
   "cell_type": "markdown",
   "id": "7e661df5",
   "metadata": {},
   "source": [
    "# Finding a Minimal Set of Graphs for Impossibility Theorems"
   ]
  },
  {
   "cell_type": "code",
   "execution_count": 1,
   "id": "b6426fde",
   "metadata": {},
   "outputs": [],
   "source": [
    "from itertools import product, combinations\n",
    "import pickle\n",
    "import networkx as nx # for graphs\n",
    "import matplotlib.pyplot as plt\n",
    "from pysat.solvers import Glucose3 # SAT solver\n",
    "from tqdm.notebook import tqdm\n",
    "from pysat.formula import CNF \n"
   ]
  },
  {
   "cell_type": "markdown",
   "id": "9ddde395",
   "metadata": {},
   "source": [
    "## 1. Minimal set of tournaments to prove Proposition A.12\n",
    "\n",
    "Naively, one approach to obtaining a minimal set of tournaments is the following: \n",
    "1. Generate a CNF using all relevant tournaments.\n",
    "2. Run PicoMUS on the CNF to obtain an MUS.\n",
    "3. Extract the set of tournaments associated with literals in the MUS.\n",
    "4. Use the extracted set of graphs to re-generate a CNF and verify unsatisfiability. \n",
    "\n",
    "However, this approach may fail at step 4; the extracted set of tournaments may lead to a satisfiability result.  The reason is that a clause in step 1 may be generated in part because of an embedding of a tournament $T$ into $T'$ although the clause does not contain literals associated with both $T$ and $T'$.   To solve this problem, we keep track of all tournaments responsible for the inclusion of a literal in the CNF.  Then, we use this information to extract a larger set of tournaments in step 3, and we verify that this larger set of tournaments does indeed lead to an unsatisfiability result. \n",
    "\n",
    "It is also useful in analyzing the MUS to know the \"reason\" why each clause was added to the orignal CNF, i.e., whether it was part of binary $\\gamma$, $\\alpha$-resoluteness, etc., and what is the relevant emdedding between tournaments.  So, we have added code to keep track of these reasons.  \n"
   ]
  },
  {
   "cell_type": "code",
   "execution_count": 2,
   "id": "8a895208",
   "metadata": {},
   "outputs": [],
   "source": [
    "# Paths to pickled weak tournaments\n",
    "canonical_weak_tournament_paths = {\n",
    "    2: 'weak_tourns/weak_tourns_2.pkl',\n",
    "    3: 'weak_tourns/weak_tourns_3.pkl',\n",
    "    4: 'weak_tourns/weak_tourns_4.pkl',\n",
    "    5: 'weak_tourns/weak_tourns_5.pkl',\n",
    "#    6: 'weak_tourns/weak_tourns_6.pkl',\n",
    "#    7: 'weak_tourns/weak_tourns_7.pkl',\n",
    "}\n",
    "\n",
    "# Load all the canonical tournaments\n",
    "canonical_weak_tournaments = {nc: pickle.load(open(canonical_weak_tournament_paths[nc], 'rb'))\n",
    "                              for nc in range(2,6)}\n",
    "\n",
    "\n",
    "# Paths to pickled weak tournaments\n",
    "canonical_tournament_paths = {\n",
    "    2: 'tourns/tourns_2.pkl',\n",
    "    3: 'tourns/tourns_3.pkl',\n",
    "    4: 'tourns/tourns_4.pkl',\n",
    "    5: 'tourns/tourns_5.pkl',\n",
    "    6: 'tourns/tourns_6.pkl',\n",
    "#    7: 'tourns/tourns_7.pkl',\n",
    "}\n",
    "\n",
    "\n",
    "# Load all the canonical tournaments\n",
    "canonical_tournaments = {nc: pickle.load(open(canonical_tournament_paths[nc], 'rb'))\n",
    "                         for nc in range(2,7)}\n"
   ]
  },
  {
   "cell_type": "code",
   "execution_count": 3,
   "id": "71385f29",
   "metadata": {},
   "outputs": [],
   "source": [
    "def display_wt(wt):\n",
    "    \"\"\"Display a (weak) tournament\"\"\"\n",
    "    pos = nx.circular_layout(wt)\n",
    "    nx.draw(wt, pos, font_size=20, node_color='blue', font_color='white', \n",
    "            node_size = 700, width=1, with_labels=True)\n",
    "    plt.show()\n",
    "\n",
    "def is_maj_preferred(wt, c1, c2): \n",
    "    \"\"\"True if c1 is majority preferred to c2\"\"\"\n",
    "    return wt.has_edge(c1, c2)\n",
    "\n",
    "def is_tournament(wt):\n",
    "    \"\"\"test if a weak tournament is a tournament\"\"\"\n",
    "    candidates = wt.nodes\n",
    "    is_t = True\n",
    "    for c1 in candidates: \n",
    "        for c2 in candidates: \n",
    "            if c1 != c2 and not is_maj_preferred(wt,c1,c2) and not is_maj_preferred(wt,c2,c1):\n",
    "                is_t = False\n",
    "    return is_t\n",
    "\n",
    "def findsubsets(s, n):\n",
    "    \"\"\"all subsets of the list s of size n\"\"\" \n",
    "    return [set(i) for i in combinations(s, n)] \n",
    "\n",
    "def powerset_ne(fullset):\n",
    "    \"\"\"return all non-empty subsets of fullset\"\"\"\n",
    "    listrep = list(fullset)\n",
    "    n = len(listrep)\n",
    "    all_subsets = [[listrep[k] for k in range(n) if i&1<<k ] for i in range(2**n)]\n",
    "    return [sorted(s) for s in all_subsets if len(s) > 0]\n",
    "\n",
    "def all_included(listlike, items):\n",
    "    \"\"\"\n",
    "    helper for powerset_ne_plus\n",
    "    returns true if all members of items are in listlike\n",
    "    \"\"\"\n",
    "    for item in items:\n",
    "        if item not in listlike:\n",
    "            return False\n",
    "    return True\n",
    "\n",
    "def powerset_ne_plus(listlike, items):\n",
    "    \"\"\"returns all non-empty subsets of setlike which include elements of items\"\"\"\n",
    "    return [sorted(pset) for pset in powerset_ne(listlike) if all_included(pset, items)]"
   ]
  },
  {
   "cell_type": "code",
   "execution_count": 4,
   "id": "649101e5",
   "metadata": {},
   "outputs": [],
   "source": [
    "def orbit_condition(orbit, ws): \n",
    "    \"\"\"\n",
    "    orbit is a set of candidates and ws is a winning set\n",
    "    returns true if the orbit condition is satisfied\n",
    "    \"\"\"\n",
    "    return set(orbit).issubset(set(ws)) or not bool(set(orbit).intersection(set(ws)))\n",
    "\n",
    "def find_possible_winners(min_num_cands, max_num_cands, canonical_graphs): \n",
    "    \"\"\"\n",
    "    takes dictionary of canonical graphs and range of graph sizes to consider\n",
    "    for each canonical graph, creates tuples containing the graph and winning sets that satisfy the orbit condition\n",
    "    \"\"\"\n",
    "    possible_winners = {nc: list() for nc in range(min_num_cands, max_num_cands + 1)}\n",
    "    for nc in possible_winners.keys():\n",
    "        for g in canonical_graphs[nc]:\n",
    "            candidates = g.nodes\n",
    "\n",
    "            # all the automorophism on wt\n",
    "            automorphisms = list(nx.algorithms.isomorphism.GraphMatcher(g, g).isomorphisms_iter())\n",
    "\n",
    "            # find the orbits\n",
    "            _orbits=list()\n",
    "            for c in candidates: \n",
    "                _orbit = list()\n",
    "                for aut in automorphisms: \n",
    "                    _orbit.append(aut[c])\n",
    "                _orbits.append(tuple(set(_orbit)))\n",
    "            orbits = list(set(_orbits))\n",
    "\n",
    "            # find the possible winning sets for wt\n",
    "            for ws in powerset_ne(candidates): \n",
    "                if all([orbit_condition(orbit, ws) for orbit in orbits]):\n",
    "                    possible_winners[nc].append((g, ws))\n",
    "    return possible_winners\n",
    "\n",
    "def generate_wt_dictionary(possible_winners):\n",
    "    \"\"\"\n",
    "    takes a dictionary of (weak) tournaments and returns a dictionary (t, ws) -> int\n",
    "    t is a tournament in 'possible_winners' and ws is a winning set on t satisfying the orbit condition\n",
    "    \"\"\"\n",
    "    wt_dictionary = {}\n",
    "    wt_id = 1\n",
    "    for nc in possible_winners.keys(): \n",
    "        for wt, ws in possible_winners[nc]:\n",
    "            wt_dictionary.update({(wt, tuple(ws)): wt_id})\n",
    "            wt_id += 1\n",
    "            \n",
    "    return wt_dictionary"
   ]
  },
  {
   "cell_type": "code",
   "execution_count": 5,
   "id": "771771b4",
   "metadata": {},
   "outputs": [],
   "source": [
    "def generate_function_formula(graphs, wt_dictionary): \n",
    "    \"\"\"\n",
    "    takes a list of all graphs 'graphs' and a dictionary of possible winners on those graphs 'wt_dictionary'\n",
    "    returns CNF clauses ensuring that only one winning set will be chosen per graph\n",
    "    \"\"\"\n",
    "    C_func = list()\n",
    "    for g in graphs:     \n",
    "        # get the list of all atomic formulas describing a possible winning set\n",
    "        poss_ws = [wt_dictionary[(_g, ws)] for _g,ws in wt_dictionary.keys() if _g == g]\n",
    "        # NOTE: we use equality rather than testing for graph isomporphism.  This makes sense since\n",
    "        # graphs is the set of the networkx objects representing the canonical weak tournaments and \n",
    "        # the keys of wt_dictionary are tuples where the first components is an object from this lest. \n",
    "        C_func.append(poss_ws) # one of the possible winning sets is the winner\n",
    "        for pairs in combinations(poss_ws, 2):\n",
    "            # add a clause saying that it is not the case that two possible winning sets are associated \n",
    "            # with a single weak tournament\n",
    "            C_func.append([0 - pairs[0], 0 - pairs[1]])\n",
    "\n",
    "    return C_func\n"
   ]
  },
  {
   "cell_type": "code",
   "execution_count": 6,
   "id": "fa6834d4",
   "metadata": {},
   "outputs": [],
   "source": [
    "def is_embedding(small_g, big_g, iso):\n",
    "    \"\"\"\n",
    "    iso is an isomorphism from small_g to a subgraph of big_g,\n",
    "    but we must check whether iso is an embedding. \n",
    "    returns True if iso is an embedding of small_g into big_g. \n",
    "    \n",
    "    Returns True if for every pair of candidates c1 and c2 in small_g, \n",
    "    if there is an edge between iso[c1] and iso[c2] in big_g, then \n",
    "    there is an edge between c1 and c2 in small_g\n",
    "    \"\"\"\n",
    "    for c1, c2 in product(small_g.nodes, small_g.nodes): \n",
    "        if big_g.has_edge(iso[c1],iso[c2]) and not small_g.has_edge(c1,c2):\n",
    "            return False\n",
    "    return True  \n",
    "\n",
    "def find_embeddings(min_num_cands, max_num_cands, canonical_graphs):\n",
    "    \"\"\"\n",
    "    find embeddings of graphs in 'canonical_graphs',\n",
    "    embeddings of n-tournaments to (n+1)-tournaments, for n=min_num_cands,...,max_num_cands-1\n",
    "    \"\"\"\n",
    "    embeddings = list()\n",
    "\n",
    "    for nc in range(min_num_cands, max_num_cands): \n",
    "        # for each number of candidate between min_num_cands and max_num_cands - 1  \n",
    "\n",
    "        for g1 in canonical_graphs[nc]: \n",
    "            # for each canonical graph of size nc    \n",
    "\n",
    "            for g2 in canonical_graphs[nc+1]:\n",
    "                # for each canonical graph of size nc+1\n",
    "\n",
    "                seen_ranges = set()\n",
    "\n",
    "                for iso in nx.algorithms.isomorphism.GraphMatcher(g2, g1).subgraph_isomorphisms_iter():\n",
    "                    # for each isomporphism from g1 to a subgraph of g2\n",
    "\n",
    "                    # NOTE: iso is a dictionary associating a subset of nodes from g2 to the nodes in g1\n",
    "                    # It's easier to think about the isomorphism as a mapping from the smaller graph g1 \n",
    "                    # into the bigger graph g2:\n",
    "                    inverse_iso = {v:k for k,v in iso.items()}\n",
    "\n",
    "                    rng = tuple(sorted(iso.keys())) # the range of the isomorphism (nodes in the bigger graph)\n",
    "                    if not rng in seen_ranges and is_embedding(g1, g2, inverse_iso): \n",
    "                        # if haven't seen the range yet and g1 is an embedding into g2\n",
    "                        seen_ranges.add(rng)\n",
    "                        # record the smaller graph g1, larger graph g2 and isomorphism from g1 to g2\n",
    "                        embeddings.append((g1, g2, inverse_iso))  \n",
    "    return embeddings"
   ]
  },
  {
   "cell_type": "code",
   "execution_count": 7,
   "id": "1e8ba035",
   "metadata": {},
   "outputs": [],
   "source": [
    "def generate_bg_formula(min_num_cands,\n",
    "                        max_num_cands, \n",
    "                        canonical_graphs, \n",
    "                        wt_dictionary, \n",
    "                        possible_winners, \n",
    "                        embeddings,\n",
    "                        two_cand_tournament\n",
    "                       ): \n",
    "    \"\"\"\n",
    "    returns CNF clauses expressing binary gamma\n",
    "    \"\"\"\n",
    "    \n",
    "\n",
    "    maj_winner = [c for c in two_cand_tournament.nodes if two_cand_tournament.out_degree(c) == 1]\n",
    "    non_maj_winner = [c for c in two_cand_tournament.nodes if c not in maj_winner]\n",
    "    \n",
    "    can_2_maj_pref_cand_literal = wt_dictionary[(two_cand_tournament, tuple(maj_winner))]\n",
    "    can_2_min_pref_cand_literal = wt_dictionary[(two_cand_tournament, tuple(non_maj_winner))]\n",
    "    \n",
    "    C_bg = list()\n",
    "\n",
    "    for nc in range(min_num_cands, max_num_cands + 1):\n",
    "\n",
    "        for t1 in canonical_graphs[nc]:\n",
    "            # for each canonical graph for nc candidates\n",
    "            \n",
    "            for emb in [_emb for _emb in embeddings if _emb[0] == t1]: \n",
    "                # for each possible embedding from t1 into a canonical graph emb[1]\n",
    "                \n",
    "                t2 = emb[1]\n",
    "                # t2 is a canonical graph on nc+1 candidates, which t1 embeds into\n",
    "                \n",
    "                if t2 in canonical_graphs[nc+1]:\n",
    "                    new_cand = list(set(emb[1].nodes).difference(set(emb[2].values())))[0]\n",
    "                    # new_cand is the candidate in t2 not in the range of the embedding from t1 to t2\n",
    "\n",
    "                    for cand in t1.nodes:\n",
    "                        cand_t2 = emb[2][cand]\n",
    "                        if (cand_t2, new_cand) in t2.edges: # if cand_t2 is majority preferred to new_cand\n",
    "                            for ws in [_ws for _ws in powerset_ne_plus(t1.nodes, [cand]) if (t1, tuple(_ws)) in wt_dictionary]:\n",
    "                                # for winning sets in t1 including cand (i.e. if cand (pre-image of cand_t2) is a winner in t1)\n",
    "                                clause = [-wt_dictionary[(t1, tuple(ws))],\n",
    "                                         -can_2_maj_pref_cand_literal]  \n",
    "                                # if majority preference holds on the two-candidate tournament\n",
    "                                clause += [wt_dictionary[(t2, tuple(_ws))] \\\n",
    "                                           for _ws in powerset_ne_plus(t2.nodes, [cand_t2]) \\\n",
    "                                           if (t2, tuple(_ws)) in wt_dictionary]\n",
    "                                # then cand_t2 is a winner in t2\n",
    "\n",
    "                                if tuple(clause) in clause_reasons.keys(): \n",
    "                                    clause_reasons[tuple(clause)].append((\"BG\", emb[0], emb[1], emb[2]))\n",
    "                                else: \n",
    "                                    clause_reasons[tuple(clause)] = [(\"BG\", emb[0], emb[1], emb[2])]\n",
    "\n",
    "\n",
    "                                C_bg.append(clause)\n",
    "\n",
    "                        elif (new_cand, cand_t2) in t2.edges: # if cand_t2 is minority preferred to new_cand\n",
    "                            for ws in [_ws for _ws in powerset_ne_plus(t1.nodes, [cand]) if (t1, tuple(_ws)) in wt_dictionary]:\n",
    "                                # for winning sets in t1 including cand (i.e. if cand (pre-image of cand_t2) is a winner in t1)\n",
    "                                clause = [-wt_dictionary[(t1, tuple(ws))],\n",
    "                                         -can_2_min_pref_cand_literal]\n",
    "                                # if minority preference holds on the two-candidate tournament\n",
    "                                clause += [wt_dictionary[(t2, tuple(_ws))] \\\n",
    "                                           for _ws in powerset_ne_plus(t2.nodes, [cand_t2]) \\\n",
    "                                           if (t2, tuple(_ws)) in wt_dictionary]\n",
    "                                # then cand_t2 is a winner in t2\n",
    "\n",
    "                                if tuple(clause) in clause_reasons.keys(): \n",
    "                                    clause_reasons[tuple(clause)].append((\"BG\", emb[0], emb[1], emb[2]))\n",
    "                                else: \n",
    "                                    clause_reasons[tuple(clause)] = [(\"BG\", emb[0], emb[1], emb[2])]\n",
    "\n",
    "                                C_bg.append(clause)\n",
    "\n",
    "                        else:\n",
    "                            raise Exception\n",
    "                        \n",
    "    return C_bg"
   ]
  },
  {
   "cell_type": "code",
   "execution_count": 8,
   "id": "f73dc536",
   "metadata": {},
   "outputs": [],
   "source": [
    "def generate_ar_formula(min_num_cands, \n",
    "                         max_num_cands, \n",
    "                         canonical_graphs, \n",
    "                         wt_dictionary, \n",
    "                         possible_winners, \n",
    "                         embeddings,\n",
    "                        two_cand_tournament\n",
    "                       ): \n",
    "    \"\"\"\n",
    "    returns CNF clauses expressing binary alpha\n",
    "    \"\"\"\n",
    "    \n",
    "    maj_winner = [c for c in two_cand_tournament.nodes if two_cand_tournament.out_degree(c) == 1]\n",
    "    non_maj_winner = [c for c in two_cand_tournament.nodes if c not in maj_winner]\n",
    "    \n",
    "    can_2_maj_pref_cand_literal = wt_dictionary[(two_cand_tournament, tuple(maj_winner))]\n",
    "    can_2_min_pref_cand_literal = wt_dictionary[(two_cand_tournament, tuple(non_maj_winner))]\n",
    "\n",
    "    C_ar = list()\n",
    "\n",
    "    for nc in range(min_num_cands, max_num_cands + 1):\n",
    "\n",
    "        for t1 in canonical_graphs[nc]:\n",
    "            # for each canonical graph for nc candidates\n",
    "            \n",
    "            for emb in [_emb for _emb in embeddings if _emb[0] == t1]: \n",
    "                # for each possible embedding from t1 into a canonical graph emb[1]\n",
    "                \n",
    "                t2 = emb[1]\n",
    "                \n",
    "                if t2 in canonical_graphs[nc+1]:\n",
    "                    # t2 is a canonical graph on nc+1 candidates, which t1 embeds into\n",
    "\n",
    "                    new_cand = list(set(emb[1].nodes).difference(set(emb[2].values())))[0]\n",
    "                    # new_cand is the candidate in t2 not in the range of the embedding from t1 to t2\n",
    "                    for cand in t1.nodes:\n",
    "                        cand_t2 = emb[2][cand]\n",
    "\n",
    "                        if (cand_t2, new_cand) in t2.edges: # if cand_t2 is majority preferred to new_cand\n",
    "                            for ws in [_ws for _ws in powerset_ne_plus(t1.nodes, [cand]) if (t1, tuple(_ws)) in wt_dictionary]:\n",
    "                                clause = [-wt_dictionary[(t1, tuple(ws))],\n",
    "                                         -can_2_maj_pref_cand_literal]  \n",
    "\n",
    "                                consequent = [wt_dictionary[(t2, tuple(_ws))] \\\n",
    "                                              for _ws in powerset_ne(t2.nodes) \\\n",
    "                                              if (t2, tuple(_ws)) in wt_dictionary and len(_ws) <= len(ws)]\n",
    "\n",
    "\n",
    "                                clause += consequent\n",
    "\n",
    "                                if tuple(clause) in clause_reasons.keys(): \n",
    "                                    clause_reasons[tuple(clause)].append((\"AR\", emb[0], emb[1], emb[2]))\n",
    "                                else: \n",
    "                                    clause_reasons[tuple(clause)] = [(\"AR\", emb[0], emb[1], emb[2])]\n",
    "\n",
    "                                C_ar.append(clause)\n",
    "\n",
    "\n",
    "                        elif (new_cand, cand_t2) in t2.edges: # if cand_t2 is minority preferred to new_cand\n",
    "                            for ws in [_ws for _ws in powerset_ne_plus(t1.nodes, [cand]) if (t1, tuple(_ws)) in wt_dictionary]:\n",
    "\n",
    "                                clause = [-wt_dictionary[(t1, tuple(ws))],\n",
    "                                         -can_2_min_pref_cand_literal]\n",
    "                                # if cand (pre-image of cand_t2) is a winner in t1 AND\n",
    "                                # if minority preference holds on the two-candidate tournament\n",
    "\n",
    "                                consequent = [wt_dictionary[(t2, tuple(_ws))] \\\n",
    "                                            for _ws in powerset_ne(t2.nodes) \\\n",
    "                                            if (t2, tuple(_ws)) in wt_dictionary and len(_ws) <= len(ws)]\n",
    "\n",
    "                                clause += consequent\n",
    "\n",
    "\n",
    "                                if tuple(clause) in clause_reasons.keys(): \n",
    "                                    clause_reasons[tuple(clause)].append((\"AR\", emb[0], emb[1], emb[2]))\n",
    "                                else: \n",
    "                                    clause_reasons[tuple(clause)] = [(\"AR\", emb[0], emb[1], emb[2])]\n",
    "\n",
    "                                C_ar.append(clause)\n",
    "\n",
    "                        else:\n",
    "                            raise Exception\n",
    "\n",
    "\n",
    "    return C_ar"
   ]
  },
  {
   "cell_type": "code",
   "execution_count": 9,
   "id": "cfb0592a",
   "metadata": {},
   "outputs": [],
   "source": [
    "def generate_binary_qr_formula(canonical_graphs, wt_dictionary):\n",
    "    C_bqr = list()\n",
    "    \n",
    "    for g in canonical_graphs[2]:\n",
    "        clause = []\n",
    "        \n",
    "        for pw in [_ws for _g, _ws in wt_dictionary.keys() if _g == g]:\n",
    "            if len(pw) == 1:\n",
    "                clause += [wt_dictionary[(g, pw)]]\n",
    "                \n",
    "        C_bqr.append(clause)\n",
    "        \n",
    "    return C_bqr"
   ]
  },
  {
   "cell_type": "code",
   "execution_count": 10,
   "id": "7e3e363e",
   "metadata": {},
   "outputs": [
    {
     "name": "stdout",
     "output_type": "stream",
     "text": [
      "Done finding the possible winners.\n",
      "Done creating the encoding.\n",
      "done with embeddings\n"
     ]
    }
   ],
   "source": [
    "min_num_cands,max_num_cands = 2, 6\n",
    "\n",
    "canonical_graphs = canonical_tournaments\n",
    "\n",
    "clause_reasons = dict() # global variable recording reasons for some of the clauses\n",
    "\n",
    "#print(canonical_graphs)\n",
    "graphs = [wt for nc in range(min_num_cands, max_num_cands + 1) for wt in  canonical_graphs[nc]]\n",
    "\n",
    "possible_winners = find_possible_winners(min_num_cands, max_num_cands, canonical_graphs)\n",
    "print(\"Done finding the possible winners.\")\n",
    "\n",
    "wt_dictionary = generate_wt_dictionary(possible_winners)\n",
    "print(\"Done creating the encoding.\")\n",
    "\n",
    "embeddings = find_embeddings(min_num_cands, max_num_cands, canonical_graphs)\n",
    "print(\"done with embeddings\")"
   ]
  },
  {
   "cell_type": "code",
   "execution_count": 11,
   "id": "efbbad3b",
   "metadata": {},
   "outputs": [
    {
     "name": "stdout",
     "output_type": "stream",
     "text": [
      "Two candidate tournament  [(1, 0)]\n",
      "Done creating the function formula.\n",
      "Done creating the BG formula.\n",
      "Done creating the AR formula.\n",
      "Done creating BQR formula\n"
     ]
    }
   ],
   "source": [
    "two_cand_tournament = canonical_tournaments[2][0]\n",
    "print(\"Two candidate tournament \", two_cand_tournament.edges)\n",
    "\n",
    "\n",
    "C_func = generate_function_formula(graphs, wt_dictionary)\n",
    "print(\"Done creating the function formula.\")\n",
    "\n",
    "C_bg = generate_bg_formula(min_num_cands, \n",
    "                           max_num_cands, \n",
    "                           canonical_graphs,\n",
    "                           wt_dictionary, \n",
    "                           possible_winners, \n",
    "                           embeddings,\n",
    "                           two_cand_tournament\n",
    "                          )\n",
    "print(\"Done creating the BG formula.\")\n",
    "\n",
    "C_ar = generate_ar_formula(min_num_cands, \n",
    "                           max_num_cands, \n",
    "                           canonical_graphs, \n",
    "                           wt_dictionary, \n",
    "                           possible_winners, \n",
    "                           embeddings,\n",
    "                           two_cand_tournament\n",
    "                          )\n",
    "print(\"Done creating the AR formula.\")\n",
    "\n",
    "C_bqr = generate_binary_qr_formula(canonical_graphs, wt_dictionary)\n",
    "print(\"Done creating BQR formula\")\n",
    "\n",
    "C_bm = [[1]]"
   ]
  },
  {
   "cell_type": "code",
   "execution_count": 12,
   "id": "2085a6b1",
   "metadata": {},
   "outputs": [
    {
     "name": "stdout",
     "output_type": "stream",
     "text": [
      "The number of clauses in formula is 132626\n",
      "There is no canonical tournament solution, satisfying the orbit condition, up to 6 candidates that satisfies BG, AR, and BQR.\n"
     ]
    }
   ],
   "source": [
    "formula =  C_func + C_bg + C_ar + C_bqr + C_bm\n",
    "\n",
    "print(f\"The number of clauses in formula is {len(formula)}\")\n",
    "sat_solver = Glucose3()\n",
    "for cl in formula:\n",
    "    sat_solver.add_clause(cl)\n",
    "\n",
    "if sat_solver.solve(): \n",
    "    print(f\"There is a canonical tournament solution, satisfying the orbit condition, up to {max_num_cands} candidates that satisfies BG, AR, and BQR.\")\n",
    "    vm = sat_solver.get_model()\n",
    "else: \n",
    "    print(f\"There is no canonical tournament solution, satisfying the orbit condition, up to {max_num_cands} candidates that satisfies BG, AR, and BQR.\")\n",
    "\n"
   ]
  },
  {
   "cell_type": "code",
   "execution_count": 13,
   "id": "a85e91e6",
   "metadata": {},
   "outputs": [
    {
     "name": "stdout",
     "output_type": "stream",
     "text": [
      "There are 132626 clauses in the main formula\n"
     ]
    }
   ],
   "source": [
    "main_formula_cnf = CNF()\n",
    "for cl in  C_func + C_bg + C_ar + C_bqr + C_bm:\n",
    "    main_formula_cnf.append(cl)\n",
    "\n",
    "print(f\"There are {len([cl for cl in main_formula_cnf])} clauses in the main formula\")\n",
    "\n"
   ]
  },
  {
   "cell_type": "code",
   "execution_count": 14,
   "id": "a9989408",
   "metadata": {},
   "outputs": [],
   "source": [
    "## Generate an MUS using PicoMUS\n",
    "\n",
    "#main_formula_cnf.to_file(\"./picosat/ar_bg.cnf\")\n",
    "\n",
    "#!./picosat/picomus -v ar_bg.cnf ar_bg_output.cnf"
   ]
  },
  {
   "cell_type": "code",
   "execution_count": 15,
   "id": "ae6184a5",
   "metadata": {},
   "outputs": [
    {
     "name": "stdout",
     "output_type": "stream",
     "text": [
      "There are 260 clauses in the mus\n"
     ]
    }
   ],
   "source": [
    "mus_cnf = CNF()\n",
    "\n",
    "mus_cnf.from_file(\"./mus_cnfs/ar_bg_output.cnf\")\n",
    "\n",
    "print(f\"There are {len([cl for cl in mus_cnf])} clauses in the mus\")\n"
   ]
  },
  {
   "cell_type": "code",
   "execution_count": 16,
   "id": "83afa107",
   "metadata": {},
   "outputs": [
    {
     "name": "stdout",
     "output_type": "stream",
     "text": [
      "The number of ids in the main formula 3041\n",
      "The number of ids in the mus 113\n"
     ]
    }
   ],
   "source": [
    "def get_ids_in_cnf(cnf):\n",
    "    _ids = list()\n",
    "    for cl in cnf: \n",
    "        for l in cl: \n",
    "            if l > 0: \n",
    "                _ids.append(l)\n",
    "            if l < 0: \n",
    "                _ids.append(-l)\n",
    "\n",
    "    return list(set(_ids))\n",
    "\n",
    "ids_main_formula_cnf = get_ids_in_cnf(main_formula_cnf)\n",
    "ids_mus_cnf = get_ids_in_cnf(mus_cnf)\n",
    "\n",
    "print(f\"The number of ids in the main formula {len(ids_main_formula_cnf)}\")\n",
    "print(f\"The number of ids in the mus {len(ids_mus_cnf)}\")\n"
   ]
  },
  {
   "cell_type": "code",
   "execution_count": 17,
   "id": "94ac01d2",
   "metadata": {},
   "outputs": [
    {
     "name": "stdout",
     "output_type": "stream",
     "text": [
      "The number of graphs mentioned in the main formula 75\n",
      "The number of graphs mentioned in the mus 7\n"
     ]
    }
   ],
   "source": [
    "def graphs_ws_from_ids(ids, wt_dictionary):\n",
    "    \"\"\"returns two lists: the list of graphs associated with the ids and the list of graph, ws pairs for the ids\"\"\"\n",
    "    _g_ws = list()\n",
    "    _gs = list()\n",
    "    for g,ws in wt_dictionary.keys(): \n",
    "        if wt_dictionary[(g, ws)] in ids: \n",
    "            _g_ws.append((g, ws))\n",
    "            _gs.append(g)\n",
    "            \n",
    "    return list(set(_g_ws)), list(set(_gs))\n",
    "\n",
    "graphs_ws_main_formula, graphs_main_formula = graphs_ws_from_ids(ids_main_formula_cnf, wt_dictionary)\n",
    "graphs_ws_mus, graphs_mus = graphs_ws_from_ids(ids_mus_cnf, wt_dictionary)\n",
    "\n",
    "\n",
    "print(f\"The number of graphs mentioned in the main formula {len(graphs_main_formula)}\")\n",
    "print(f\"The number of graphs mentioned in the mus {len(graphs_mus)}\")\n"
   ]
  },
  {
   "cell_type": "code",
   "execution_count": 18,
   "id": "9bb5bacc",
   "metadata": {},
   "outputs": [
    {
     "name": "stdout",
     "output_type": "stream",
     "text": [
      "The number of graphs mentioned in reasons for the main formula 75\n",
      "The number of graphs mentioned in reasons for the mus 8\n"
     ]
    }
   ],
   "source": [
    "def get_graphs_mentioned_in_reasons(cnf):\n",
    "    _reason_gs = list()\n",
    "    for cl in cnf: \n",
    "        if tuple(cl) in clause_reasons.keys():\n",
    "            for r in clause_reasons[tuple(cl)]:\n",
    "                _reason_gs.append(r[1])\n",
    "                _reason_gs.append(r[2])\n",
    "    return list(set(_reason_gs))\n",
    "\n",
    "reason_graphs_main_formula = get_graphs_mentioned_in_reasons(main_formula_cnf)\n",
    "reason_graphs_mus = get_graphs_mentioned_in_reasons(mus_cnf)\n",
    "\n",
    "print(f\"The number of graphs mentioned in reasons for the main formula {len(reason_graphs_main_formula)}\")\n",
    "print(f\"The number of graphs mentioned in reasons for the mus {len(reason_graphs_mus)}\")\n"
   ]
  },
  {
   "cell_type": "code",
   "execution_count": 19,
   "id": "d81c50ce",
   "metadata": {},
   "outputs": [
    {
     "name": "stdout",
     "output_type": "stream",
     "text": [
      "The number of graphs mentioned in the main formula 75\n",
      "The number of graphs mentioned in the mus 9\n",
      "for 2 candidates, 1 wts\n",
      "for 3 candidates, 2 wts\n",
      "for 4 candidates, 4 wts\n",
      "for 5 candidates, 12 wts\n",
      "for 6 candidates, 56 wts\n",
      "\n",
      "for 2 candidates, 1 wts\n",
      "for 3 candidates, 1 wts\n",
      "for 4 candidates, 2 wts\n",
      "for 5 candidates, 3 wts\n",
      "for 6 candidates, 2 wts\n"
     ]
    }
   ],
   "source": [
    "all_gs_main_formula = list(set(graphs_main_formula + reason_graphs_main_formula))\n",
    "all_gs_mus = list(set(graphs_mus + reason_graphs_mus))\n",
    "\n",
    "print(f\"The number of graphs mentioned in the main formula {len(all_gs_main_formula)}\")\n",
    "print(f\"The number of graphs mentioned in the mus {len(all_gs_mus)}\")\n",
    "\n",
    "all_gs_main_formula_dict = dict()\n",
    "all_gs_main_formula_dict[2] = [g for g in all_gs_main_formula if len(g.nodes) == 2]\n",
    "all_gs_main_formula_dict[3] = [g for g in all_gs_main_formula if len(g.nodes) == 3]\n",
    "all_gs_main_formula_dict[4] = [g for g in all_gs_main_formula if len(g.nodes) == 4]\n",
    "all_gs_main_formula_dict[5] = [g for g in all_gs_main_formula if len(g.nodes) == 5]\n",
    "all_gs_main_formula_dict[6] = [g for g in all_gs_main_formula if len(g.nodes) == 6]\n",
    "print(f\"for 2 candidates, {len(all_gs_main_formula_dict[2])} wts\")\n",
    "print(f\"for 3 candidates, {len(all_gs_main_formula_dict[3])} wts\")\n",
    "print(f\"for 4 candidates, {len(all_gs_main_formula_dict[4])} wts\")\n",
    "print(f\"for 5 candidates, {len(all_gs_main_formula_dict[5])} wts\")\n",
    "print(f\"for 6 candidates, {len(all_gs_main_formula_dict[6])} wts\")\n",
    "\n",
    "\n",
    "\n",
    "print()\n",
    "all_gs_mus_dict = dict()\n",
    "all_gs_mus_dict[2] = [g for g in all_gs_mus if len(g.nodes) == 2]\n",
    "all_gs_mus_dict[3] = [g for g in all_gs_mus if len(g.nodes) == 3]\n",
    "all_gs_mus_dict[4] = [g for g in all_gs_mus if len(g.nodes) == 4]\n",
    "all_gs_mus_dict[5] = [g for g in all_gs_mus if len(g.nodes) == 5]\n",
    "all_gs_mus_dict[6] = [g for g in all_gs_mus if len(g.nodes) == 6]\n",
    "\n",
    "print(f\"for 2 candidates, {len(all_gs_mus_dict[2])} wts\")\n",
    "print(f\"for 3 candidates, {len(all_gs_mus_dict[3])} wts\")\n",
    "print(f\"for 4 candidates, {len(all_gs_mus_dict[4])} wts\")\n",
    "print(f\"for 5 candidates, {len(all_gs_mus_dict[5])} wts\")\n",
    "print(f\"for 6 candidates, {len(all_gs_mus_dict[6])} wts\")\n",
    "\n"
   ]
  },
  {
   "cell_type": "code",
   "execution_count": 20,
   "id": "4603475b",
   "metadata": {},
   "outputs": [],
   "source": [
    "pickle.dump(all_gs_mus_dict, open(\"./graphs_for_impossibilities/all_gs_mus_dict_majoritarian.pkl\", \"wb\"))"
   ]
  },
  {
   "cell_type": "code",
   "execution_count": 21,
   "id": "1209a172",
   "metadata": {},
   "outputs": [
    {
     "name": "stdout",
     "output_type": "stream",
     "text": [
      "Done finding the possible winners.\n",
      "Done creating the encoding.\n",
      "done with embeddings\n"
     ]
    }
   ],
   "source": [
    "min_num_cands,max_num_cands = 2, 6\n",
    "\n",
    "canonical_graphs = all_gs_mus_dict\n",
    "\n",
    "clause_reasons = dict() # global variable recording reasons for some of the clauses\n",
    "\n",
    "graphs = [wt for nc in range(min_num_cands, max_num_cands + 1) for wt in  canonical_graphs[nc]]\n",
    "\n",
    "possible_winners = find_possible_winners(min_num_cands, max_num_cands, canonical_graphs)\n",
    "print(\"Done finding the possible winners.\")\n",
    "\n",
    "wt_dictionary = generate_wt_dictionary(possible_winners)\n",
    "print(\"Done creating the encoding.\")\n",
    "\n",
    "embeddings = find_embeddings(min_num_cands, max_num_cands, canonical_graphs)\n",
    "print(\"done with embeddings\")"
   ]
  },
  {
   "cell_type": "code",
   "execution_count": 22,
   "id": "e9172428",
   "metadata": {
    "scrolled": false
   },
   "outputs": [
    {
     "data": {
      "image/png": "[encoded data removed]",
      "text/plain": [
       "<Figure size 432x288 with 1 Axes>"
      ]
     },
     "metadata": {},
     "output_type": "display_data"
    },
    {
     "data": {
      "image/png": "[encoded data removed]",
      "text/plain": [
       "<Figure size 432x288 with 1 Axes>"
      ]
     },
     "metadata": {},
     "output_type": "display_data"
    },
    {
     "data": {
      "image/png": "[encoded data removed]",
      "text/plain": [
       "<Figure size 432x288 with 1 Axes>"
      ]
     },
     "metadata": {},
     "output_type": "display_data"
    },
    {
     "data": {
      "image/png": "[encoded data removed]",
      "text/plain": [
       "<Figure size 432x288 with 1 Axes>"
      ]
     },
     "metadata": {},
     "output_type": "display_data"
    },
    {
     "data": {
      "image/png": "[encoded data removed]",
      "text/plain": [
       "<Figure size 432x288 with 1 Axes>"
      ]
     },
     "metadata": {},
     "output_type": "display_data"
    },
    {
     "data": {
      "image/png": "[encoded data removed]",
      "text/plain": [
       "<Figure size 432x288 with 1 Axes>"
      ]
     },
     "metadata": {},
     "output_type": "display_data"
    },
    {
     "data": {
      "image/png": "[encoded data removed]",
      "text/plain": [
       "<Figure size 432x288 with 1 Axes>"
      ]
     },
     "metadata": {},
     "output_type": "display_data"
    },
    {
     "data": {
      "image/png": "[encoded data removed]",
      "text/plain": [
       "<Figure size 432x288 with 1 Axes>"
      ]
     },
     "metadata": {},
     "output_type": "display_data"
    },
    {
     "data": {
      "image/png": "[encoded data removed]",
      "text/plain": [
       "<Figure size 432x288 with 1 Axes>"
      ]
     },
     "metadata": {},
     "output_type": "display_data"
    }
   ],
   "source": [
    "for g in graphs: \n",
    "    display_wt(g)"
   ]
  },
  {
   "cell_type": "code",
   "execution_count": 23,
   "id": "b4691a06",
   "metadata": {},
   "outputs": [
    {
     "name": "stdout",
     "output_type": "stream",
     "text": [
      "Two candidate tournament  [(1, 0)]\n",
      "Done creating the function formula.\n",
      "Done creating the BG formula.\n",
      "Done creating the AR formula.\n",
      "Done creating BQR formula\n"
     ]
    }
   ],
   "source": [
    "two_cand_tournament = all_gs_mus_dict[2][0]\n",
    "print(\"Two candidate tournament \", two_cand_tournament.edges)\n",
    "\n",
    "C_func = generate_function_formula(graphs, wt_dictionary)\n",
    "print(\"Done creating the function formula.\")\n",
    "\n",
    "C_bg = generate_bg_formula(min_num_cands, \n",
    "                           max_num_cands, \n",
    "                           canonical_graphs,\n",
    "                           wt_dictionary, \n",
    "                           possible_winners, \n",
    "                           embeddings,\n",
    "                           two_cand_tournament\n",
    "                          )\n",
    "print(\"Done creating the BG formula.\")\n",
    "\n",
    "C_ar = generate_ar_formula(min_num_cands, \n",
    "                           max_num_cands, \n",
    "                           canonical_graphs, \n",
    "                           wt_dictionary, \n",
    "                           possible_winners, \n",
    "                           embeddings,\n",
    "                           two_cand_tournament\n",
    "                          )\n",
    "print(\"Done creating the AR formula.\")\n",
    "\n",
    "C_bqr = generate_binary_qr_formula(canonical_graphs, wt_dictionary)\n",
    "print(\"Done creating BQR formula\")\n",
    "\n",
    "C_bm = [[1]]\n"
   ]
  },
  {
   "cell_type": "code",
   "execution_count": 24,
   "id": "151f6b93",
   "metadata": {},
   "outputs": [
    {
     "name": "stdout",
     "output_type": "stream",
     "text": [
      "The number of clauses in formula is 4954\n",
      "There is no canonical tournament solution, satisfying the orbit condition, up to 6 candidates that satisfies BG, AR, and BQR.\n"
     ]
    }
   ],
   "source": [
    "formula =  C_func + C_bg + C_ar + C_bqr + C_bm\n",
    "\n",
    "print(f\"The number of clauses in formula is {len(formula)}\")\n",
    "sat_solver = Glucose3()\n",
    "for cl in formula:\n",
    "    sat_solver.add_clause(cl)\n",
    "\n",
    "if sat_solver.solve(): \n",
    "    print(f\"There is a canonical tournament solution, satisfying the orbit condition, up to {max_num_cands} candidates that satisfies BG, AR, and BQR.\")\n",
    "    vm = sat_solver.get_model()\n",
    "else: \n",
    "    print(f\"There is no canonical tournament solution, satisfying the orbit condition, up to {max_num_cands} candidates that satisfies BG, AR, and BQR.\")\n",
    "\n"
   ]
  },
  {
   "cell_type": "markdown",
   "id": "9e983ca2",
   "metadata": {},
   "source": [
    "## 2. Minimal set of tournaments to prove Proposition B.3"
   ]
  },
  {
   "cell_type": "code",
   "execution_count": 2,
   "id": "2645d39c",
   "metadata": {},
   "outputs": [],
   "source": [
    "# helper function\n",
    "\n",
    "def display_weighted_tourn(wt, edge_attr):\n",
    "    \"\"\"Display a weighted tournament with edge weights\"\"\"\n",
    "    pos = nx.circular_layout(wt)\n",
    "    nx.draw(wt, pos, font_size=20, node_color='blue', font_color='white',\n",
    "            node_size=700, width=1, with_labels=True)\n",
    "    \n",
    "    edge_labels = nx.get_edge_attributes(wt, edge_attr)\n",
    "    nx.draw_networkx_edge_labels(wt, pos, edge_labels=edge_labels, label_pos=0.3)\n",
    "    plt.show()\n"
   ]
  },
  {
   "cell_type": "code",
   "execution_count": 3,
   "id": "f5b87dd7",
   "metadata": {},
   "outputs": [],
   "source": [
    "# Paths to pickled weak tournaments\n",
    "canonical_weighted_tournament_paths = {\n",
    "    2: 'weighted_tourns/weighted_tourns_2.pkl',\n",
    "    3: 'weighted_tourns/weighted_tourns_3.pkl',\n",
    "    4: 'weighted_tourns/weighted_tourns_4.pkl',\n",
    "}\n",
    "\n",
    "# Load all the canonical weighted tournaments\n",
    "canonical_weighted_tournaments = {nc: pickle.load(open(canonical_weighted_tournament_paths[nc], 'rb'))\n",
    "                                  for nc in range(2,5)}\n"
   ]
  },
  {
   "cell_type": "code",
   "execution_count": 4,
   "id": "d49ec42c",
   "metadata": {},
   "outputs": [],
   "source": [
    "\n",
    "def generate_wt_dictionary_with_resoluteness(wts):\n",
    "    \"\"\"\n",
    "    takes a dictionary of (weak) tournaments and returns a dictionary (t, ws) -> int\n",
    "    t is a tournament in 'possible_winners' and ws is a winning set on t satisfying the orbit condition\n",
    "    \"\"\"\n",
    "    wt_dictionary = {}\n",
    "    wt_w_id = 1\n",
    "    for num_cands in wts.keys():\n",
    "        for wt in wts[num_cands]: \n",
    "            for c in range(num_cands): \n",
    "                wt_dictionary.update({(wt, c): wt_w_id})\n",
    "                wt_w_id += 1\n",
    "            \n",
    "    return wt_dictionary"
   ]
  },
  {
   "cell_type": "code",
   "execution_count": 5,
   "id": "c30890b6",
   "metadata": {},
   "outputs": [],
   "source": [
    "def generate_function_formula(graphs, wt_dictionary): \n",
    "    \"\"\"\n",
    "    takes a list of all graphs 'graphs' and a dictionary of possible winners on those graphs 'wwt_dictionary'\n",
    "    returns CNF clauses ensuring that only one winning set will be chosen per graph\n",
    "    \"\"\"\n",
    "    C_func = list()\n",
    "    for t in graphs:  \n",
    "\n",
    "        # get the list of all atomic formulas describing a possible winning set\n",
    "        poss_ws = [wt_dictionary[(_t, w)] for _t,w in wt_dictionary.keys() if _t == t]\n",
    "        #print(poss_ws)\n",
    "        # NOTE: we use equality rather than testing for graph isomporphism.  This makes sense since\n",
    "        # graphs is the set of the networkx objects representing the canonical tournaments and \n",
    "        # the keys of wwt_dictionary are tuples where the first components is an object from this lest. \n",
    "        C_func.append(poss_ws) # one of the possible winning sets is the winner\n",
    "        for pairs in combinations(poss_ws, 2):\n",
    "            # add a clause saying that it is not the case that two possible winning sets are associated \n",
    "            # with a weighted tournament\n",
    "            C_func.append([0 - pairs[0], 0 - pairs[1]])\n",
    "\n",
    "    return C_func\n",
    "\n"
   ]
  },
  {
   "cell_type": "code",
   "execution_count": 6,
   "id": "7583b7c1",
   "metadata": {},
   "outputs": [],
   "source": [
    "# helper function that transforms edges under an isomorphism\n",
    "edge_conv = lambda e, iso: (iso[e[0]], iso[e[1]])\n",
    "\n",
    "def preserves_weights(small_g, big_g, iso, edge_attr, verbose=False):\n",
    "    \"\"\"\n",
    "    takes weighted tournament small_g, big_g and an embedding iso from small_g to big_g\n",
    "    returns true if iso preserves weights from small_g to big_g\n",
    "    \"\"\"\n",
    "    for e in small_g.edges:\n",
    "        if small_g.edges[e][edge_attr] != big_g.edges[edge_conv(e, iso)][edge_attr]:\n",
    "            if verbose:\n",
    "                print(\"The edge {} in the small graph embeds into the edge {} in the big graph, but the weight of {} in the small graph doesn't match the weight of {} in the big graph.\".format(e, edge_conv(e, iso), e, edge_conv(e, iso)))\n",
    "            return False\n",
    "    return True\n",
    "\n",
    "def is_embedding(small_g, big_g, iso):\n",
    "    \"\"\"\n",
    "    iso is an isomorphism from small_g to a subgraph of big_g,\n",
    "    but we must check whether iso is an embedding. \n",
    "    returns True if iso is an embedding of small_g into big_g. \n",
    "    \n",
    "    Returns True if for every pair of candidates c1 and c2 in small_g, \n",
    "    if there is an edge between iso[c1] and iso[c2] in big_g, then \n",
    "    there is an edge between c1 and c2 in small_g\n",
    "    \"\"\"\n",
    "    for c1, c2 in product(small_g.nodes, small_g.nodes): \n",
    "        if big_g.has_edge(iso[c1],iso[c2]) and not small_g.has_edge(c1,c2):\n",
    "            return False\n",
    "    return True    \n",
    "\n",
    "def find_embeddings(min_num_cands, max_num_cands, canonical_graphs, edge_attr):\n",
    "    \"\"\"\n",
    "    find embeddings of graphs in 'canonical_graphs',\n",
    "    embeddings of n-tournaments to (n+1)-tournaments, for n=min_num_cands,...,max_num_cands-1\n",
    "    \"\"\"\n",
    "    embeddings = list()\n",
    "\n",
    "    for nc in range(min_num_cands, max_num_cands): \n",
    "        # for each number of candidate between min_num_cands and max_num_cands - 1  \n",
    "\n",
    "        for g1 in canonical_graphs[nc]: \n",
    "            # for each canonical graph of size nc    \n",
    "\n",
    "            for g2 in canonical_graphs[nc+1]:\n",
    "                # for each canonical graph of size nc+1\n",
    "\n",
    "                seen_ranges = set()\n",
    "\n",
    "                for iso in nx.algorithms.isomorphism.GraphMatcher(g2, g1, edge_match=edge_compare).subgraph_isomorphisms_iter():\n",
    "                    # for each isomporphism from g1 to a subgraph of g2\n",
    "\n",
    "                    # NOTE: iso is a dictionary associating a subset of nodes from g2 to the nodes in g1\n",
    "                    # It's easier to think about the isomorphism as a mapping from the smaller graph g1 \n",
    "                    # into the bigger graph g2:\n",
    "                    inverse_iso = {v:k for k,v in iso.items()}\n",
    "\n",
    "                    rng = tuple(sorted(iso.keys())) # the range of the isomorphism (nodes in the bigger graph)\n",
    "                    if not rng in seen_ranges and is_embedding(g1, g2, inverse_iso) and \\\n",
    "                    preserves_weights(g1, g2, inverse_iso, edge_attr):\n",
    "                        # if haven't seen the range yet, g1 is an embedding into g2, \n",
    "                        # and the embedding preserves edge weights\n",
    "                        seen_ranges.add(rng)\n",
    "                        # record the smaller graph g1, larger graph g2 and isomorphism from g1 to g2\n",
    "                        embeddings.append((g1, g2, inverse_iso))  \n",
    "    return embeddings"
   ]
  },
  {
   "cell_type": "code",
   "execution_count": 7,
   "id": "a0f41f5f",
   "metadata": {},
   "outputs": [],
   "source": [
    "def generate_bg_formula(min_num_cands, \n",
    "                        max_num_cands, \n",
    "                        canonical_graphs, \n",
    "                        wwt_dictionary, \n",
    "                         embeddings,\n",
    "                        edge_attr): \n",
    "    \"\"\"\n",
    "    returns CNF clauses expressing binary gamma\n",
    "    \"\"\"\n",
    "    C_bg = list()\n",
    "    \n",
    "    can_2_tourn_dict = {[e[2]['weight'] for e in wt.edges(data=True)][0]: wt  \n",
    "                        for wt in canonical_graphs[2]}\n",
    "\n",
    "    can_2_tourn_maj_pref_cand = [c for c in can_2_tourn_dict[2].nodes \n",
    "                                 if can_2_tourn_dict[2].out_degree(c) == 1][0]\n",
    "    \n",
    "    can_2_tourn_min_pref_cand = [c for c in can_2_tourn_dict[2].nodes \n",
    "                                 if c != can_2_tourn_maj_pref_cand][0]\n",
    "\n",
    "    C_bg = list()\n",
    "\n",
    "    for nc in range(min_num_cands, max_num_cands + 1):\n",
    "\n",
    "        for t1 in canonical_graphs[nc]:\n",
    "            # for each canonical weighted tournament for nc candidates\n",
    "            \n",
    "            for emb in [_emb for _emb in embeddings if _emb[0] == t1]: \n",
    "                # for each possible embedding from t1 into a canonical majority graph emb[1]\n",
    "                \n",
    "                t2 = emb[1]\n",
    "                # t2 is a canonical weighted tournament for nc+1 candidates, which t1 embeds into\n",
    "                \n",
    "                if t2 in canonical_graphs[nc+1]:\n",
    "                    new_cand = list(set(emb[1].nodes).difference(set(emb[2].values())))[0]\n",
    "                    # new_cand is the candidate in t2 not in the range of the embedding from t1 to t2\n",
    "\n",
    "                    for cand in t1.nodes:\n",
    "                        cand_t2 = emb[2][cand]\n",
    "                        if (cand_t2, new_cand) in t2.edges: # if cand_t2 is majority preferred to new_cand\n",
    "\n",
    "                            # if cand is a winner in t1\n",
    "                            clause = [-wwt_dictionary[(t1, cand)]]\n",
    "\n",
    "                            # if cand_t2 is majority preferred to new_cand by the right margin\n",
    "                            can_2_tourn = can_2_tourn_dict[t2.edges[(cand_t2, new_cand)][edge_attr]]\n",
    "                            clause += [-wwt_dictionary[(can_2_tourn, can_2_tourn_maj_pref_cand)]]    \n",
    "\n",
    "                            # then cand_t2 must be the winner in t2\n",
    "                            clause += [wwt_dictionary[(t2, cand_t2)]]                       \n",
    "\n",
    "                            if tuple(clause) in clause_reasons.keys(): \n",
    "                                clause_reasons[tuple(clause)].append((\"BG\", emb[0], emb[1], emb[2]))\n",
    "                            else: \n",
    "                                clause_reasons[tuple(clause)] = [(\"BG\", emb[0], emb[1], emb[2])]\n",
    "\n",
    "                            C_bg.append(clause)\n",
    "\n",
    "                        elif (new_cand, cand_t2) in t2.edges: # if cand_t2 is minority preferred to new_cand\n",
    "\n",
    "                            # if cand is a winner in t2\n",
    "                            clause = [-wwt_dictionary[(t1, cand)]]\n",
    "\n",
    "                            # if minority rule on two-candidate tournament with same weight as cand_t2 <- new_cand\n",
    "                            can_2_tourn = can_2_tourn_dict[t2.edges[(new_cand, cand_t2)][edge_attr]]\n",
    "                            clause += [-wwt_dictionary[(can_2_tourn, can_2_tourn_min_pref_cand)]]\n",
    "\n",
    "                            # then cand_t2 must be the winner in t2\n",
    "                            clause += [wwt_dictionary[(t2, cand_t2)]]                       \n",
    "                            \n",
    "                            if tuple(clause) in clause_reasons.keys(): \n",
    "                                clause_reasons[tuple(clause)].append((\"BG\", emb[0], emb[1], emb[2]))\n",
    "                            else: \n",
    "                                clause_reasons[tuple(clause)] = [(\"BG\", emb[0], emb[1], emb[2])]\n",
    "\n",
    "                            C_bg.append(clause)\n",
    "\n",
    "                        else:\n",
    "                            raise Exception\n",
    "                        \n",
    "    return C_bg"
   ]
  },
  {
   "cell_type": "code",
   "execution_count": 8,
   "id": "b36d17fe",
   "metadata": {},
   "outputs": [
    {
     "name": "stdout",
     "output_type": "stream",
     "text": [
      "Done creating the encoding.\n"
     ]
    },
    {
     "ename": "KeyboardInterrupt",
     "evalue": "",
     "output_type": "error",
     "traceback": [
      "\u001b[0;31m---------------------------------------------------------------------------\u001b[0m",
      "\u001b[0;31mKeyboardInterrupt\u001b[0m                         Traceback (most recent call last)",
      "\u001b[0;32m<ipython-input-8-05451c6e6011>\u001b[0m in \u001b[0;36m<module>\u001b[0;34m\u001b[0m\n\u001b[1;32m     15\u001b[0m \u001b[0mprint\u001b[0m\u001b[0;34m(\u001b[0m\u001b[0;34m\"Done creating the encoding.\"\u001b[0m\u001b[0;34m)\u001b[0m\u001b[0;34m\u001b[0m\u001b[0;34m\u001b[0m\u001b[0m\n\u001b[1;32m     16\u001b[0m \u001b[0;34m\u001b[0m\u001b[0m\n\u001b[0;32m---> 17\u001b[0;31m \u001b[0membeddings\u001b[0m \u001b[0;34m=\u001b[0m \u001b[0mfind_embeddings\u001b[0m\u001b[0;34m(\u001b[0m\u001b[0mmin_num_cands\u001b[0m\u001b[0;34m,\u001b[0m \u001b[0mmax_num_cands\u001b[0m\u001b[0;34m,\u001b[0m \u001b[0mcanonical_weighted_tournaments\u001b[0m\u001b[0;34m,\u001b[0m \u001b[0medge_attr\u001b[0m\u001b[0;34m)\u001b[0m\u001b[0;34m\u001b[0m\u001b[0;34m\u001b[0m\u001b[0m\n\u001b[0m\u001b[1;32m     18\u001b[0m \u001b[0mprint\u001b[0m\u001b[0;34m(\u001b[0m\u001b[0;34m\"Done creating the embeddings.\"\u001b[0m\u001b[0;34m)\u001b[0m\u001b[0;34m\u001b[0m\u001b[0;34m\u001b[0m\u001b[0m\n",
      "\u001b[0;32m<ipython-input-6-ffd12494ff8f>\u001b[0m in \u001b[0;36mfind_embeddings\u001b[0;34m(min_num_cands, max_num_cands, canonical_graphs, edge_attr)\u001b[0m\n\u001b[1;32m     47\u001b[0m                 \u001b[0mseen_ranges\u001b[0m \u001b[0;34m=\u001b[0m \u001b[0mset\u001b[0m\u001b[0;34m(\u001b[0m\u001b[0;34m)\u001b[0m\u001b[0;34m\u001b[0m\u001b[0;34m\u001b[0m\u001b[0m\n\u001b[1;32m     48\u001b[0m \u001b[0;34m\u001b[0m\u001b[0m\n\u001b[0;32m---> 49\u001b[0;31m                 \u001b[0;32mfor\u001b[0m \u001b[0miso\u001b[0m \u001b[0;32min\u001b[0m \u001b[0mnx\u001b[0m\u001b[0;34m.\u001b[0m\u001b[0malgorithms\u001b[0m\u001b[0;34m.\u001b[0m\u001b[0misomorphism\u001b[0m\u001b[0;34m.\u001b[0m\u001b[0mGraphMatcher\u001b[0m\u001b[0;34m(\u001b[0m\u001b[0mg2\u001b[0m\u001b[0;34m,\u001b[0m \u001b[0mg1\u001b[0m\u001b[0;34m,\u001b[0m \u001b[0medge_match\u001b[0m\u001b[0;34m=\u001b[0m\u001b[0medge_compare\u001b[0m\u001b[0;34m)\u001b[0m\u001b[0;34m.\u001b[0m\u001b[0msubgraph_isomorphisms_iter\u001b[0m\u001b[0;34m(\u001b[0m\u001b[0;34m)\u001b[0m\u001b[0;34m:\u001b[0m\u001b[0;34m\u001b[0m\u001b[0;34m\u001b[0m\u001b[0m\n\u001b[0m\u001b[1;32m     50\u001b[0m                     \u001b[0;31m# for each isomporphism from g1 to a subgraph of g2\u001b[0m\u001b[0;34m\u001b[0m\u001b[0;34m\u001b[0m\u001b[0;34m\u001b[0m\u001b[0m\n\u001b[1;32m     51\u001b[0m \u001b[0;34m\u001b[0m\u001b[0m\n",
      "\u001b[0;32m/Library/Frameworks/Python.framework/Versions/3.8/lib/python3.8/site-packages/networkx/algorithms/isomorphism/isomorphvf2.py\u001b[0m in \u001b[0;36msubgraph_isomorphisms_iter\u001b[0;34m(self)\u001b[0m\n\u001b[1;32m    382\u001b[0m         \u001b[0mself\u001b[0m\u001b[0;34m.\u001b[0m\u001b[0mtest\u001b[0m \u001b[0;34m=\u001b[0m \u001b[0;34m\"subgraph\"\u001b[0m\u001b[0;34m\u001b[0m\u001b[0;34m\u001b[0m\u001b[0m\n\u001b[1;32m    383\u001b[0m         \u001b[0mself\u001b[0m\u001b[0;34m.\u001b[0m\u001b[0minitialize\u001b[0m\u001b[0;34m(\u001b[0m\u001b[0;34m)\u001b[0m\u001b[0;34m\u001b[0m\u001b[0;34m\u001b[0m\u001b[0m\n\u001b[0;32m--> 384\u001b[0;31m         \u001b[0;32myield\u001b[0m \u001b[0;32mfrom\u001b[0m \u001b[0mself\u001b[0m\u001b[0;34m.\u001b[0m\u001b[0mmatch\u001b[0m\u001b[0;34m(\u001b[0m\u001b[0;34m)\u001b[0m\u001b[0;34m\u001b[0m\u001b[0;34m\u001b[0m\u001b[0m\n\u001b[0m\u001b[1;32m    385\u001b[0m \u001b[0;34m\u001b[0m\u001b[0m\n\u001b[1;32m    386\u001b[0m     \u001b[0;32mdef\u001b[0m \u001b[0msubgraph_monomorphisms_iter\u001b[0m\u001b[0;34m(\u001b[0m\u001b[0mself\u001b[0m\u001b[0;34m)\u001b[0m\u001b[0;34m:\u001b[0m\u001b[0;34m\u001b[0m\u001b[0;34m\u001b[0m\u001b[0m\n",
      "\u001b[0;32m/Library/Frameworks/Python.framework/Versions/3.8/lib/python3.8/site-packages/networkx/algorithms/isomorphism/isomorphvf2.py\u001b[0m in \u001b[0;36mmatch\u001b[0;34m(self)\u001b[0m\n\u001b[1;32m    310\u001b[0m         \u001b[0;32melse\u001b[0m\u001b[0;34m:\u001b[0m\u001b[0;34m\u001b[0m\u001b[0;34m\u001b[0m\u001b[0m\n\u001b[1;32m    311\u001b[0m             \u001b[0;32mfor\u001b[0m \u001b[0mG1_node\u001b[0m\u001b[0;34m,\u001b[0m \u001b[0mG2_node\u001b[0m \u001b[0;32min\u001b[0m \u001b[0mself\u001b[0m\u001b[0;34m.\u001b[0m\u001b[0mcandidate_pairs_iter\u001b[0m\u001b[0;34m(\u001b[0m\u001b[0;34m)\u001b[0m\u001b[0;34m:\u001b[0m\u001b[0;34m\u001b[0m\u001b[0;34m\u001b[0m\u001b[0m\n\u001b[0;32m--> 312\u001b[0;31m                 \u001b[0;32mif\u001b[0m \u001b[0mself\u001b[0m\u001b[0;34m.\u001b[0m\u001b[0msyntactic_feasibility\u001b[0m\u001b[0;34m(\u001b[0m\u001b[0mG1_node\u001b[0m\u001b[0;34m,\u001b[0m \u001b[0mG2_node\u001b[0m\u001b[0;34m)\u001b[0m\u001b[0;34m:\u001b[0m\u001b[0;34m\u001b[0m\u001b[0;34m\u001b[0m\u001b[0m\n\u001b[0m\u001b[1;32m    313\u001b[0m                     \u001b[0;32mif\u001b[0m \u001b[0mself\u001b[0m\u001b[0;34m.\u001b[0m\u001b[0msemantic_feasibility\u001b[0m\u001b[0;34m(\u001b[0m\u001b[0mG1_node\u001b[0m\u001b[0;34m,\u001b[0m \u001b[0mG2_node\u001b[0m\u001b[0;34m)\u001b[0m\u001b[0;34m:\u001b[0m\u001b[0;34m\u001b[0m\u001b[0;34m\u001b[0m\u001b[0m\n\u001b[1;32m    314\u001b[0m                         \u001b[0;31m# Recursive call, adding the feasible state.\u001b[0m\u001b[0;34m\u001b[0m\u001b[0;34m\u001b[0m\u001b[0;34m\u001b[0m\u001b[0m\n",
      "\u001b[0;32m/Library/Frameworks/Python.framework/Versions/3.8/lib/python3.8/site-packages/networkx/algorithms/isomorphism/isomorphvf2.py\u001b[0m in \u001b[0;36msyntactic_feasibility\u001b[0;34m(self, G1_node, G2_node)\u001b[0m\n\u001b[1;32m    455\u001b[0m                         \u001b[0;32mreturn\u001b[0m \u001b[0;32mFalse\u001b[0m\u001b[0;34m\u001b[0m\u001b[0;34m\u001b[0m\u001b[0m\n\u001b[1;32m    456\u001b[0m \u001b[0;34m\u001b[0m\u001b[0m\n\u001b[0;32m--> 457\u001b[0;31m         \u001b[0;32mfor\u001b[0m \u001b[0mneighbor\u001b[0m \u001b[0;32min\u001b[0m \u001b[0mself\u001b[0m\u001b[0;34m.\u001b[0m\u001b[0mG2\u001b[0m\u001b[0;34m[\u001b[0m\u001b[0mG2_node\u001b[0m\u001b[0;34m]\u001b[0m\u001b[0;34m:\u001b[0m\u001b[0;34m\u001b[0m\u001b[0;34m\u001b[0m\u001b[0m\n\u001b[0m\u001b[1;32m    458\u001b[0m             \u001b[0;32mif\u001b[0m \u001b[0mneighbor\u001b[0m \u001b[0;32min\u001b[0m \u001b[0mself\u001b[0m\u001b[0;34m.\u001b[0m\u001b[0mcore_2\u001b[0m\u001b[0;34m:\u001b[0m\u001b[0;34m\u001b[0m\u001b[0;34m\u001b[0m\u001b[0m\n\u001b[1;32m    459\u001b[0m                 \u001b[0;32mif\u001b[0m \u001b[0;32mnot\u001b[0m \u001b[0;34m(\u001b[0m\u001b[0mself\u001b[0m\u001b[0;34m.\u001b[0m\u001b[0mcore_2\u001b[0m\u001b[0;34m[\u001b[0m\u001b[0mneighbor\u001b[0m\u001b[0;34m]\u001b[0m \u001b[0;32min\u001b[0m \u001b[0mself\u001b[0m\u001b[0;34m.\u001b[0m\u001b[0mG1\u001b[0m\u001b[0;34m[\u001b[0m\u001b[0mG1_node\u001b[0m\u001b[0;34m]\u001b[0m\u001b[0;34m)\u001b[0m\u001b[0;34m:\u001b[0m\u001b[0;34m\u001b[0m\u001b[0;34m\u001b[0m\u001b[0m\n",
      "\u001b[0;31mKeyboardInterrupt\u001b[0m: "
     ]
    }
   ],
   "source": [
    "\n",
    "min_num_cands,max_num_cands = 2, 4\n",
    "\n",
    "edge_attr = 'weight'\n",
    "\n",
    "def edge_compare_helper(dict1, dict2, edge_attr):\n",
    "    return dict1[edge_attr] == dict2[edge_attr]\n",
    "\n",
    "edge_compare = (lambda edge_attr: lambda dict1, dict2: edge_compare_helper(dict1, dict2, edge_attr))(edge_attr)\n",
    "\n",
    "canonical_graphs = canonical_weighted_tournaments\n",
    "\n",
    "graphs = [mg for nc in range(min_num_cands, max_num_cands + 1) for mg in  canonical_graphs[nc]]\n",
    "\n",
    "wt_dictionary = generate_wt_dictionary_with_resoluteness(canonical_weighted_tournaments)\n",
    "print(\"Done creating the encoding.\")\n",
    "\n",
    "embeddings = find_embeddings(min_num_cands, max_num_cands, canonical_weighted_tournaments, edge_attr)\n",
    "print(\"Done creating the embeddings.\")\n"
   ]
  },
  {
   "cell_type": "code",
   "execution_count": null,
   "id": "77c78689",
   "metadata": {},
   "outputs": [],
   "source": [
    "C_func = generate_function_formula(graphs, wt_dictionary)\n",
    "print(\"Done creating the function formula.\\n\\n\")\n",
    "\n",
    "clause_reasons = dict() # global variable recording reasons for some of the clauses\n",
    "\n",
    "C_bg = generate_bg_formula(min_num_cands, \n",
    "                           max_num_cands, \n",
    "                           canonical_weighted_tournaments, \n",
    "                           wt_dictionary, \n",
    "                           embeddings,\n",
    "                           edge_attr)\n",
    "print(\"Done creating the BG clauses\")\n",
    "\n",
    "\n",
    "# uncomment to see the model (list of literals that are true)\n",
    "#print(sat_solver.get_model())"
   ]
  },
  {
   "cell_type": "code",
   "execution_count": null,
   "id": "5a2ebad0",
   "metadata": {},
   "outputs": [],
   "source": [
    "formula = C_func + C_bg\n",
    "sat_solver = Glucose3()\n",
    "for cl in formula:\n",
    "    sat_solver.add_clause(cl)\n",
    "\n",
    "if sat_solver.solve(): \n",
    "    print(f\"There is a canonical tournament solution up to {max_num_cands} candidates that satisfies BG and QR.\")\n",
    "    vm = sat_solver.get_model()\n",
    "else: \n",
    "    print(f\"There is no canonical tournament solution up to {max_num_cands} candidates that satisfies BG and QR.\")\n"
   ]
  },
  {
   "cell_type": "code",
   "execution_count": 71,
   "id": "fddc81af",
   "metadata": {},
   "outputs": [
    {
     "name": "stdout",
     "output_type": "stream",
     "text": [
      "There are 38092 clauses in the main formula\n"
     ]
    }
   ],
   "source": [
    "main_formula_cnf = CNF()\n",
    "for cl in  C_func + C_bg:\n",
    "    main_formula_cnf.append(cl)\n",
    "\n",
    "print(f\"There are {len([cl for cl in main_formula_cnf])} clauses in the main formula\")\n"
   ]
  },
  {
   "cell_type": "code",
   "execution_count": 72,
   "id": "3d8fcaf0",
   "metadata": {},
   "outputs": [],
   "source": [
    "## Use PicoMUS to find an MUS\n",
    "\n",
    "# main_formula_cnf.to_file(\"./picosat/qr_bg.cnf\")\n",
    "\n",
    "# !./picosat/picomus -v qr_bg.cnf qr_bg_output.cnf"
   ]
  },
  {
   "cell_type": "code",
   "execution_count": 73,
   "id": "13ce4fce",
   "metadata": {},
   "outputs": [
    {
     "name": "stdout",
     "output_type": "stream",
     "text": [
      "There are 9297 clauses in the mus\n"
     ]
    }
   ],
   "source": [
    "mus_cnf = CNF()\n",
    "\n",
    "mus_cnf.from_file(\"./mus_cnfs/qr_bg_output.cnf\")\n",
    "\n",
    "print(f\"There are {len([cl for cl in mus_cnf])} clauses in the mus\")\n"
   ]
  },
  {
   "cell_type": "code",
   "execution_count": 74,
   "id": "8fe99f70",
   "metadata": {},
   "outputs": [
    {
     "name": "stdout",
     "output_type": "stream",
     "text": [
      "There is no canonical tournament solution up to 4 candidates that satisfies BG and QR.\n"
     ]
    }
   ],
   "source": [
    "sat_solver = Glucose3()\n",
    "for cl in mus_cnf:\n",
    "    sat_solver.add_clause(cl)\n",
    "\n",
    "if sat_solver.solve(): \n",
    "    print(f\"There is a canonical tournament solution up to {max_num_cands} candidates that satisfies BG and QR.\")\n",
    "    vm = sat_solver.get_model()\n",
    "else: \n",
    "    print(f\"There is no canonical tournament solution up to {max_num_cands} candidates that satisfies BG and QR.\")\n"
   ]
  },
  {
   "cell_type": "code",
   "execution_count": 75,
   "id": "ed9a4dac",
   "metadata": {},
   "outputs": [
    {
     "name": "stdout",
     "output_type": "stream",
     "text": [
      "The number of ids in the main formula 8172\n",
      "The number of ids in the mus 4781\n"
     ]
    }
   ],
   "source": [
    "def get_ids_in_cnf(cnf):\n",
    "    _ids = list()\n",
    "    for cl in cnf: \n",
    "        for l in cl: \n",
    "            if l > 0: \n",
    "                _ids.append(l)\n",
    "            if l < 0: \n",
    "                _ids.append(-l)\n",
    "\n",
    "    return list(set(_ids))\n",
    "\n",
    "ids_main_formula_cnf = get_ids_in_cnf(main_formula_cnf)\n",
    "ids_mus_cnf = get_ids_in_cnf(mus_cnf)\n",
    "\n",
    "print(f\"The number of ids in the main formula {len(ids_main_formula_cnf)}\")\n",
    "print(f\"The number of ids in the mus {len(ids_mus_cnf)}\")\n"
   ]
  },
  {
   "cell_type": "code",
   "execution_count": 76,
   "id": "10aae386",
   "metadata": {},
   "outputs": [
    {
     "name": "stdout",
     "output_type": "stream",
     "text": [
      "The number of graphs mentioned in the main formula 2086\n",
      "The number of graphs mentioned in the mus 1622\n"
     ]
    }
   ],
   "source": [
    "def graphs_ws_from_ids(ids, wt_dictionary):\n",
    "    \"\"\"returns two lists: the list of graphs associated with the ids and the list of graph, ws pairs for the ids\"\"\"\n",
    "    _g_ws = list()\n",
    "    _gs = list()\n",
    "    for g,ws in wt_dictionary.keys(): \n",
    "        if wt_dictionary[(g, ws)] in ids: \n",
    "            _g_ws.append((g, ws))\n",
    "            _gs.append(g)\n",
    "            \n",
    "    return list(set(_g_ws)), list(set(_gs))\n",
    "\n",
    "graphs_ws_main_formula, graphs_main_formula = graphs_ws_from_ids(ids_main_formula_cnf, wt_dictionary)\n",
    "graphs_ws_mus, graphs_mus = graphs_ws_from_ids(ids_mus_cnf, wt_dictionary)\n",
    "\n",
    "\n",
    "print(f\"The number of graphs mentioned in the main formula {len(graphs_main_formula)}\")\n",
    "print(f\"The number of graphs mentioned in the mus {len(graphs_mus)}\")\n"
   ]
  },
  {
   "cell_type": "code",
   "execution_count": 77,
   "id": "e2085a17",
   "metadata": {},
   "outputs": [
    {
     "name": "stdout",
     "output_type": "stream",
     "text": [
      "The number of graphs mentioned in reasons for the main formula 2086\n",
      "The number of graphs mentioned in reasons for the mus 6\n"
     ]
    }
   ],
   "source": [
    "def get_graphs_mentioned_in_reasons(cnf):\n",
    "    _reason_gs = list()\n",
    "    for cl in cnf: \n",
    "        if tuple(cl) in clause_reasons.keys():\n",
    "            for r in clause_reasons[tuple(cl)]:\n",
    "                _reason_gs.append(r[1])\n",
    "                _reason_gs.append(r[2])\n",
    "    return list(set(_reason_gs))\n",
    "\n",
    "reason_graphs_main_formula = get_graphs_mentioned_in_reasons(main_formula_cnf)\n",
    "reason_graphs_mus = get_graphs_mentioned_in_reasons(mus_cnf)\n",
    "\n",
    "\n",
    "print(f\"The number of graphs mentioned in reasons for the main formula {len(reason_graphs_main_formula)}\")\n",
    "print(f\"The number of graphs mentioned in reasons for the mus {len(reason_graphs_mus)}\")\n"
   ]
  },
  {
   "cell_type": "code",
   "execution_count": 78,
   "id": "cbc591c1",
   "metadata": {},
   "outputs": [
    {
     "name": "stdout",
     "output_type": "stream",
     "text": [
      "The number of graphs mentioned in the main formula 2086\n",
      "In the main formula, the following graphs are mentioned:\n",
      "2 candidate graphs: 6\n",
      "3 candidate graphs: 160\n",
      "4 candidate graphs: 1920\n",
      "\n",
      "The number of graphs mentioned in the mus 1622\n",
      "In the mus, the following graphs are mentioned:\n",
      "2 candidate graphs: 6\n",
      "3 candidate graphs: 160\n",
      "4 candidate graphs: 1456\n"
     ]
    }
   ],
   "source": [
    "all_gs_main_formula = list(set(graphs_main_formula + reason_graphs_main_formula))\n",
    "all_gs_mus = list(set(graphs_mus + reason_graphs_mus))\n",
    "\n",
    "\n",
    "print(f\"The number of graphs mentioned in the main formula {len(all_gs_main_formula)}\")\n",
    "\n",
    "all_gs_main_formula_dict = dict()\n",
    "all_gs_main_formula_dict[2] = [g for g in all_gs_main_formula if len(g.nodes) == 2]\n",
    "all_gs_main_formula_dict[3] = [g for g in all_gs_main_formula if len(g.nodes) == 3]\n",
    "all_gs_main_formula_dict[4] = [g for g in all_gs_main_formula if len(g.nodes) == 4]\n",
    "print(\"In the main formula, the following graphs are mentioned:\")\n",
    "print(f\"2 candidate graphs: {len(all_gs_main_formula_dict[2])}\")\n",
    "print(f\"3 candidate graphs: {len(all_gs_main_formula_dict[3])}\")\n",
    "print(f\"4 candidate graphs: {len(all_gs_main_formula_dict[4])}\")\n",
    "\n",
    "print()\n",
    "print(f\"The number of graphs mentioned in the mus {len(all_gs_mus)}\")\n",
    "\n",
    "all_gs_mus_dict = dict()\n",
    "all_gs_mus_dict[2] = [g for g in all_gs_mus if len(g.nodes) == 2]\n",
    "all_gs_mus_dict[3] = [g for g in all_gs_mus if len(g.nodes) == 3]\n",
    "all_gs_mus_dict[4] = [g for g in all_gs_mus if len(g.nodes) == 4]\n",
    "\n",
    "print(\"In the mus, the following graphs are mentioned:\")\n",
    "print(f\"2 candidate graphs: {len(all_gs_mus_dict[2])}\")\n",
    "print(f\"3 candidate graphs: {len(all_gs_mus_dict[3])}\")\n",
    "print(f\"4 candidate graphs: {len(all_gs_mus_dict[4])}\")\n",
    "\n",
    "pickle.dump(all_gs_mus_dict, open(\"./graphs_for_impossibilities/all_gs_mus_dict.pkl\", \"wb\"))"
   ]
  },
  {
   "cell_type": "code",
   "execution_count": 83,
   "id": "cdbf1b0d",
   "metadata": {},
   "outputs": [
    {
     "name": "stdout",
     "output_type": "stream",
     "text": [
      "Done creating the encoding.\n",
      "Done creating the embeddings.\n",
      "Done creating the function formula.\n",
      "Done creating the BG formula.\n"
     ]
    }
   ],
   "source": [
    "canonical_graphs = all_gs_mus_dict\n",
    "\n",
    "graphs = [mg for nc in range(min_num_cands, max_num_cands + 1) for mg in  canonical_graphs[nc]]\n",
    "\n",
    "wt_dictionary = generate_wt_dictionary_with_resoluteness(canonical_graphs)\n",
    "print(\"Done creating the encoding.\")\n",
    "\n",
    "embeddings = find_embeddings(min_num_cands, max_num_cands, canonical_graphs, edge_attr)\n",
    "print(\"Done creating the embeddings.\")\n",
    "\n",
    "C_func_mus = generate_function_formula(graphs, wt_dictionary)\n",
    "print(\"Done creating the function formula.\")\n",
    "\n",
    "C_bg_mus = generate_bg_formula(min_num_cands, \n",
    "                               max_num_cands, \n",
    "                               canonical_graphs,\n",
    "                               wt_dictionary, \n",
    "                               embeddings,\n",
    "                               edge_attr)\n",
    "\n",
    "print(\"Done creating the BG formula.\")\n"
   ]
  },
  {
   "cell_type": "code",
   "execution_count": 84,
   "id": "711db289",
   "metadata": {},
   "outputs": [
    {
     "name": "stdout",
     "output_type": "stream",
     "text": [
      "The number of clauses in formula is 29276\n",
      "\n",
      "There is no canonical tournament solution up to 4 candidates that satisfies BG and QR.\n"
     ]
    }
   ],
   "source": [
    "formula_mus =  C_func_mus + C_bg_mus\n",
    "print(f\"The number of clauses in formula is {len(formula_mus)}\")\n",
    "\n",
    "sat_solver = Glucose3()\n",
    "for cl in formula_mus:\n",
    "    sat_solver.add_clause(cl)\n",
    "\n",
    "print()\n",
    "if sat_solver.solve(): \n",
    "    print(f\"There is a canonical tournament solution up to {max_num_cands} candidates that satisfies BG and QR.\")\n",
    "    vm = sat_solver.get_model()\n",
    "else: \n",
    "    print(f\"There is no canonical tournament solution up to {max_num_cands} candidates that satisfies BG and QR.\")\n"
   ]
  },
  {
   "cell_type": "markdown",
   "id": "7cbba856",
   "metadata": {},
   "source": [
    "## A second way to find a minimal set of weighted tournament to prove Proposition B.3\n",
    "\n",
    "Rather than using an MUS as above, another approach is to iteratively remove tournaments from the intial set only keeping the ones needed for an unsatisfiability result.  Of course, the resulting minimal set is highly dependent on the order in which we try removing tournaments.   "
   ]
  },
  {
   "cell_type": "code",
   "execution_count": 9,
   "id": "32812767",
   "metadata": {},
   "outputs": [
    {
     "name": "stdout",
     "output_type": "stream",
     "text": [
      "Done creating the encoding.\n",
      "Done creating the embeddings.\n",
      "Done creating the function formula.\n",
      "Done creating the BG clauses\n"
     ]
    }
   ],
   "source": [
    "min_num_cands,max_num_cands = 2, 4\n",
    "\n",
    "edge_attr = 'weight'\n",
    "\n",
    "def edge_compare_helper(dict1, dict2, edge_attr):\n",
    "    return dict1[edge_attr] == dict2[edge_attr]\n",
    "\n",
    "edge_compare = (lambda edge_attr: lambda dict1, dict2: edge_compare_helper(dict1, dict2, edge_attr))(edge_attr)\n",
    "\n",
    "canonical_graphs = canonical_weighted_tournaments\n",
    "\n",
    "graphs = [mg for nc in range(min_num_cands, max_num_cands + 1) for mg in  canonical_graphs[nc]]\n",
    "\n",
    "wt_dictionary = generate_wt_dictionary_with_resoluteness(canonical_graphs)\n",
    "print(\"Done creating the encoding.\")\n",
    "\n",
    "embeddings = find_embeddings(min_num_cands, max_num_cands, canonical_graphs, edge_attr)\n",
    "print(\"Done creating the embeddings.\")\n",
    "\n",
    "clause_reasons = dict() # global variable recording reasons for some of the clauses\n",
    "\n",
    "C_func = generate_function_formula(graphs, wt_dictionary)\n",
    "print(\"Done creating the function formula.\")\n",
    "\n",
    "C_bg = generate_bg_formula(min_num_cands, \n",
    "                         max_num_cands, \n",
    "                         canonical_graphs, \n",
    "                         wt_dictionary, \n",
    "                         embeddings,\n",
    "                         edge_attr)\n",
    "print(\"Done creating the BG clauses\")\n"
   ]
  },
  {
   "cell_type": "code",
   "execution_count": 10,
   "id": "bc44f851",
   "metadata": {},
   "outputs": [
    {
     "name": "stdout",
     "output_type": "stream",
     "text": [
      "There is no canonical tournament solution up to 4 candidates that satisfies BG and QR.\n"
     ]
    }
   ],
   "source": [
    "formula = C_func + C_bg\n",
    "sat_solver = Glucose3()\n",
    "for cl in formula:\n",
    "    sat_solver.add_clause(cl)\n",
    "\n",
    "if sat_solver.solve(): \n",
    "    print(f\"There is a canonical tournament solution up to {max_num_cands} candidates that satisfies BG and QR.\")\n",
    "    vm = sat_solver.get_model()\n",
    "else: \n",
    "    print(f\"There is no canonical tournament solution up to {max_num_cands} candidates that satisfies BG and QR.\")\n"
   ]
  },
  {
   "cell_type": "code",
   "execution_count": 11,
   "id": "85a76d72",
   "metadata": {},
   "outputs": [
    {
     "data": {
      "application/vnd.jupyter.widget-view+json": {
       "model_id": "d973afb70c574116abd3b955c89d9816",
       "version_major": 2,
       "version_minor": 0
      },
      "text/plain": [
       "HBox(children=(FloatProgress(value=0.0, max=2080.0), HTML(value='')))"
      ]
     },
     "metadata": {},
     "output_type": "display_data"
    },
    {
     "name": "stdout",
     "output_type": "stream",
     "text": [
      "\n",
      "CPU times: user 7h 7min 50s, sys: 1min 50s, total: 7h 9min 40s\n",
      "Wall time: 7h 17min 54s\n"
     ]
    }
   ],
   "source": [
    "%%time \n",
    "\n",
    "gs_to_remove = list()\n",
    "for g in tqdm(canonical_weighted_tournaments[4] + canonical_weighted_tournaments[3]): \n",
    "        \n",
    "    removed_gs = gs_to_remove + [g]\n",
    "    \n",
    "    removed_ids = [wt_dictionary[(_g, ws)] for rem_g in removed_gs for _g, ws in wt_dictionary.keys() if _g == rem_g ]\n",
    "    \n",
    "    C_bg_new = [clause for clause in C_bg if not any([gid in clause or -gid in clause for gid in removed_ids])]\n",
    "\n",
    "    formula =  C_func +  C_bg_new\n",
    "    sat_solver = Glucose3()\n",
    "    for cl in formula:\n",
    "        sat_solver.add_clause(cl)\n",
    "\n",
    "    if sat_solver.solve(): \n",
    "        pass\n",
    "        #print(f\"+++++There is a neutral weighted tournament solution up to {max_num_cands} candidates satisfying quasi-resoluteness and binary gamma.\")\n",
    "    else: \n",
    "        gs_to_remove.append(g)\n",
    "        C_bg = C_bg_new\n",
    "        #print(f\"There is no neutral weighted tournament solution up to {max_num_cands} candidates satisfying quasi-resoluteness and binary gamma.\")\n"
   ]
  },
  {
   "cell_type": "code",
   "execution_count": 12,
   "id": "ab6409d9",
   "metadata": {},
   "outputs": [
    {
     "name": "stdout",
     "output_type": "stream",
     "text": [
      "Minimal number of weighted tournaments with 4 candidates: 716\n"
     ]
    }
   ],
   "source": [
    "wts_for_impossibility = [wt for wt in canonical_weighted_tournaments[4] if wt not in gs_to_remove]\n",
    "wts_for_impossibility += [wt for wt in canonical_weighted_tournaments[3] if wt not in gs_to_remove]\n",
    "wts_for_impossibility += canonical_weighted_tournaments[2]\n",
    "\n",
    "print(f\"Minimal number of weighted tournaments with 4 candidates: {len(wts_for_impossibility)}\")\n",
    "\n",
    "pickle.dump(wts_for_impossibility, open(\"./graphs_for_impossibilities/wts_for_impossibility.pkl\", \"wb\"))"
   ]
  },
  {
   "cell_type": "code",
   "execution_count": 13,
   "id": "1b3d73f1",
   "metadata": {},
   "outputs": [
    {
     "name": "stdout",
     "output_type": "stream",
     "text": [
      "There are 6 weighted tournaments with 2 candidates.\n",
      "There are 140 weighted tournaments with 3 candidates.\n",
      "There are 570 weighted tournaments with 4 candidates.\n"
     ]
    }
   ],
   "source": [
    "min_set_canonical_weighted_tournaments = dict()\n",
    "min_set_canonical_weighted_tournaments[2] = [wt for wt in wts_for_impossibility if len(wt.nodes) == 2]\n",
    "min_set_canonical_weighted_tournaments[3] = [wt for wt in wts_for_impossibility if len(wt.nodes) == 3]\n",
    "\n",
    "min_set_canonical_weighted_tournaments[4] = [wt for wt in wts_for_impossibility if len(wt.nodes) == 4]\n",
    "\n",
    "for nc in min_set_canonical_weighted_tournaments.keys(): \n",
    "    print(f\"There are {len(min_set_canonical_weighted_tournaments[nc])} weighted tournaments with {nc} candidates.\")"
   ]
  },
  {
   "cell_type": "code",
   "execution_count": 14,
   "id": "96e17f78",
   "metadata": {},
   "outputs": [
    {
     "name": "stdout",
     "output_type": "stream",
     "text": [
      "Done creating the encoding.\n",
      "Done creating the function formula.\n",
      "Done creating the embeddings.\n",
      "Done creating the BG clauses\n"
     ]
    }
   ],
   "source": [
    "min_num_cands,max_num_cands = 2, 4\n",
    "\n",
    "canonical_graphs = min_set_canonical_weighted_tournaments\n",
    "\n",
    "graphs = [mg for nc in range(min_num_cands, max_num_cands + 1) for mg in canonical_graphs[nc]]\n",
    "\n",
    "wt_dictionary = generate_wt_dictionary_with_resoluteness(canonical_graphs)\n",
    "print(\"Done creating the encoding.\")\n",
    "\n",
    "C_func = generate_function_formula(graphs, wt_dictionary)\n",
    "print(\"Done creating the function formula.\")\n",
    "\n",
    "embeddings = find_embeddings(min_num_cands, max_num_cands, canonical_graphs, edge_attr)\n",
    "print(\"Done creating the embeddings.\")\n",
    "\n",
    "C_bg = generate_bg_formula(min_num_cands, \n",
    "                           max_num_cands, \n",
    "                           canonical_graphs, \n",
    "                           wt_dictionary, \n",
    "                           embeddings,\n",
    "                           edge_attr)\n",
    "print(\"Done creating the BG clauses\")"
   ]
  },
  {
   "cell_type": "code",
   "execution_count": 15,
   "id": "216f541e",
   "metadata": {},
   "outputs": [
    {
     "name": "stdout",
     "output_type": "stream",
     "text": [
      "There is no canonical weighted tournament solution up to 4 candidates that satisfies the orbit condition, QR and BG.\n"
     ]
    }
   ],
   "source": [
    "formula = C_func + C_bg\n",
    "\n",
    "sat_solver = Glucose3()\n",
    "for cl in formula:\n",
    "    sat_solver.add_clause(cl)\n",
    "\n",
    "if sat_solver.solve(): \n",
    "    print(f\"There is a canonical weighted tournament solution up to {max_num_cands} candidates that satisfies the orbit condition, QR and BG.\")\n",
    "else: \n",
    "    print(f\"There is no canonical weighted tournament solution up to {max_num_cands} candidates that satisfies the orbit condition, QR and BG.\")\n"
   ]
  }
 ],
 "metadata": {
  "@webio": {
   "lastCommId": null,
   "lastKernelId": null
  },
  "kernelspec": {
   "display_name": "Python 3",
   "language": "python",
   "name": "python3"
  },
  "language_info": {
   "codemirror_mode": {
    "name": "ipython",
    "version": 3
   },
   "file_extension": ".py",
   "mimetype": "text/x-python",
   "name": "python",
   "nbconvert_exporter": "python",
   "pygments_lexer": "ipython3",
   "version": "3.8.5"
  },
  "varInspector": {
   "cols": {
    "lenName": 16,
    "lenType": 16,
    "lenVar": 40
   },
   "kernels_config": {
    "python": {
     "delete_cmd_postfix": "",
     "delete_cmd_prefix": "del ",
     "library": "var_list.py",
     "varRefreshCmd": "print(var_dic_list())"
    },
    "r": {
     "delete_cmd_postfix": ") ",
     "delete_cmd_prefix": "rm(",
     "library": "var_list.r",
     "varRefreshCmd": "cat(var_dic_list()) "
    }
   },
   "types_to_exclude": [
    "module",
    "function",
    "builtin_function_or_method",
    "instance",
    "_Feature"
   ],
   "window_display": false
  }
 },
 "nbformat": 4,
 "nbformat_minor": 5
}
